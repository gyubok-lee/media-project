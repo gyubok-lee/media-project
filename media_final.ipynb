{
 "cells": [
  {
   "cell_type": "code",
   "execution_count": 1,
   "metadata": {
    "scrolled": true
   },
   "outputs": [],
   "source": [
    "from selenium import webdriver as wd\n",
    "from selenium.webdriver.chrome.options import Options\n",
    "from selenium.webdriver.support.wait import WebDriverWait\n",
    "from bs4 import BeautifulSoup\n",
    "from urllib.request import urlopen\n",
    "from urllib import parse\n",
    "import time\n",
    "import pandas as pd\n",
    "import re\n",
    "from selenium.webdriver.common.keys import Keys\n",
    "import datetime as dt\n",
    "import os\n",
    "import matplotlib.pyplot as plt"
   ]
  },
  {
   "cell_type": "code",
   "execution_count": 2,
   "metadata": {},
   "outputs": [],
   "source": [
    "def cleanText(readData):\n",
    "    text = re.sub('[-=+,#/\\?:^$.@*\\\"※~&%ㆍ!』\\\\‘|\\(\\)\\[\\]\\<\\>`\\'…》]', '', readData)\n",
    "    return text"
   ]
  },
  {
   "cell_type": "markdown",
   "metadata": {},
   "source": [
    "# 플레이리스트 목록, 링크 추출"
   ]
  },
  {
   "cell_type": "code",
   "execution_count": 3,
   "metadata": {},
   "outputs": [],
   "source": [
    "def get_plyst_url():\n",
    "    search = input()\n",
    "    url='https://www.youtube.com/results?search_query='+parse.quote(search)+'&sp=EgIQAg%253D%253D'\n",
    "    result = urlopen(url)\n",
    "    html = result.read()\n",
    "    soup = BeautifulSoup(html, 'html.parser')\n",
    "    k=soup.find('a',{'class':\"yt-uix-tile-link yt-ui-ellipsis yt-ui-ellipsis-2 yt-uix-sessionlink spf-link\"})\n",
    "    channel='https://www.youtube.com'+k['href']\n",
    "    playlist=channel+'/playlists?view=1&flow=grid'\n",
    "    driver = wd.Chrome(executable_path=\"chromedriver.exe\")\n",
    "    driver.get(playlist)\n",
    "    last_page_height = driver.execute_script(\"return document.documentElement.scrollHeight\")\n",
    "    while True:\n",
    "        driver.execute_script(\"window.scrollTo(0, document.documentElement.scrollHeight);\")\n",
    "        time.sleep(3.0)\n",
    "        new_page_height = driver.execute_script(\"return document.documentElement.scrollHeight\")\n",
    "        if new_page_height == last_page_height:\n",
    "            break\n",
    "        last_page_height = new_page_height\n",
    "    html2=driver.page_source\n",
    "    driver.close()\n",
    "    soup = BeautifulSoup(html2, 'html.parser')\n",
    "    a=soup.find_all('a',{'class':\"yt-simple-endpoint style-scope ytd-grid-playlist-renderer\"})\n",
    "    playlist_link={}\n",
    "    for i in range(len(a)):\n",
    "        playlist_link[a[i]['title']]='https://www.youtube.com'+a[i]['href']\n",
    "    return playlist_link"
   ]
  },
  {
   "cell_type": "markdown",
   "metadata": {},
   "source": [
    "# 플레이리스트별 영상 링크 추출(플레이리스트 당 최대 200개) "
   ]
  },
  {
   "cell_type": "code",
   "execution_count": 4,
   "metadata": {},
   "outputs": [],
   "source": [
    "def get_video_from_plyst(a):\n",
    "    url = a\n",
    "    html = urlopen(url).read()\n",
    "    soup = BeautifulSoup(html, 'html.parser')\n",
    "    url=soup.find_all('a',{'class':'spf-link playlist-video clearfix yt-uix-sessionlink spf-link'})\n",
    "    title = soup.find_all('h4',{'class':\"yt-ui-ellipsis yt-ui-ellipsis-2\"})\n",
    "    video={'title':[],'link':[]}\n",
    "    for i in range(len(url)):\n",
    "        video['title'].append(title[i].text.strip())\n",
    "        video['link'].append('https://www.youtube.com'+url[i]['href'])    \n",
    "    return video"
   ]
  },
  {
   "cell_type": "markdown",
   "metadata": {},
   "source": [
    "# 댓글 크롤링"
   ]
  },
  {
   "cell_type": "code",
   "execution_count": 136,
   "metadata": {},
   "outputs": [],
   "source": [
    "def get_comment(url):\n",
    "    comment_data = pd.DataFrame({'youtube_id':[],\n",
    "                                'comment':[],\n",
    "                                'like_num':[]})\n",
    "    delay=3\n",
    "\n",
    "    driver = wd.Chrome(executable_path=\"chromedriver.exe\")#chrome_options=options\n",
    "    driver.implicitly_wait(delay)\n",
    "\n",
    "    start_url = url\n",
    "    driver.get(start_url) \n",
    "    \n",
    "    time.sleep(3)\n",
    "    body = driver.find_element_by_tag_name('body')\n",
    "    \n",
    "    last_page_height = driver.execute_script(\"return document.documentElement.scrollHeight\")\n",
    "    \n",
    "    num_page_down = 1\n",
    "    while num_page_down:\n",
    "        body.send_keys(Keys.PAGE_DOWN)\n",
    "        time.sleep(1.5)\n",
    "        num_page_down -= 1\n",
    "    \n",
    "    time.sleep(3.0)\n",
    "\n",
    "    while True:\n",
    "        driver.execute_script(\"window.scrollTo(0, document.documentElement.scrollHeight);\")\n",
    "        time.sleep(3.0)\n",
    "        new_page_height = driver.execute_script(\"return document.documentElement.scrollHeight\")\n",
    "        if new_page_height == last_page_height:\n",
    "            break\n",
    "        last_page_height = new_page_height\n",
    "\n",
    "    html = driver.page_source\n",
    "    driver.close()\n",
    "    html_s = BeautifulSoup(html,'html.parser')\n",
    "\n",
    "    comment0 = html_s.find_all('ytd-comment-renderer',\n",
    "                               {'class':'style-scope ytd-comment-thread-renderer'})\n",
    "\n",
    "    for i in range(len(comment0)):\n",
    "        #댓글\n",
    "        comment = comment0[i].find('yt-formatted-string',\n",
    "                                   {'id':'content-text','class':'style-scope ytd-comment-renderer'}).text\n",
    "    \n",
    "        try:\n",
    "            aa = comment0[i].find('span',{'id':'vote-count-left'}).text\n",
    "            #정규표현식으로 숫자만 추출하는 것은 정규표현식에 대한 공부를 더 한 뒤 해결\n",
    "            #re.findall('[0-9]',aa)\n",
    "            #\"\".join(re.findall('[0-9]',aa)) -> 리스트 내부의 문자열의 합\n",
    "            like_num = \"\".join(re.findall('[0-9]',aa)) + \"개\"\n",
    "        except:\n",
    "            like_num = 0\n",
    "        \n",
    "        bb = comment0[i].find('a',{'id':'author-text'}).find('span').text\n",
    "        youtube_id = \"\".join(re.findall('[가-힣0-9a-zA-Z]',bb))\n",
    "    \n",
    "        insert_data =  pd.DataFrame({'youtube_id':[youtube_id],\n",
    "                                                   'comment':[comment],\n",
    "                                                   'like_num':[like_num]})\n",
    "\n",
    "        comment_data = comment_data.append(insert_data)\n",
    "    \n",
    "    comment_data.index = range(len(comment_data))\n",
    "    return comment_data"
   ]
  },
  {
   "cell_type": "markdown",
   "metadata": {},
   "source": [
    "# 플레이리스트 이름으로 폴더 생성"
   ]
  },
  {
   "cell_type": "code",
   "execution_count": 6,
   "metadata": {
    "scrolled": true
   },
   "outputs": [
    {
     "name": "stdout",
     "output_type": "stream",
     "text": [
      "오프로\n"
     ]
    }
   ],
   "source": [
    "a = get_plyst_url()\n",
    "videos={}\n",
    "\n",
    "for i in a.keys():\n",
    "    videos[i] = get_video_from_plyst(a[i])\n",
    "for i in videos.keys():\n",
    "    try:\n",
    "        if not(os.path.isdir(cleanText(i))):\n",
    "            os.makedirs(os.path.join(cleanText(i)))\n",
    "    except OSError as e:\n",
    "        if e.errno != errno.EEXIST:\n",
    "            print(\"Failed to create directory!!!!!\")\n",
    "            raise"
   ]
  },
  {
   "cell_type": "markdown",
   "metadata": {},
   "source": [
    "# 동영상별 댓글을 크롤링하여 플레이리스트 폴더에 저장"
   ]
  },
  {
   "cell_type": "code",
   "execution_count": 138,
   "metadata": {
    "collapsed": true
   },
   "outputs": [
    {
     "name": "stdout",
     "output_type": "stream",
     "text": [
      "Now Crawling: link[0]\n",
      "Now Crawling: link[1]\n",
      "Now Crawling: link[2]\n",
      "Now Crawling: link[3]\n",
      "Now Crawling: link[4]\n",
      "Now Crawling: link[5]\n",
      "Now Crawling: link[6]\n",
      "Now Crawling: link[7]\n",
      "Now Crawling: link[8]\n",
      "Now Crawling: link[9]\n",
      "Now Crawling: link[10]\n",
      "Now Crawling: link[11]\n",
      "Now Crawling: link[12]\n",
      "Now Crawling: link[13]\n",
      "Now Crawling: link[14]\n",
      "Now Crawling: link[15]\n",
      "Now Crawling: link[16]\n",
      "Now Crawling: link[17]\n",
      "Now Crawling: link[18]\n",
      "Now Crawling: link[19]\n",
      "Now Crawling: link[20]\n",
      "Now Crawling: link[21]\n",
      "Now Crawling: link[22]\n",
      "Now Crawling: link[23]\n",
      "Now Crawling: link[24]\n",
      "Now Crawling: link[25]\n",
      "Now Crawling: link[26]\n",
      "Now Crawling: link[27]\n",
      "Now Crawling: link[28]\n",
      "Now Crawling: link[29]\n",
      "Now Crawling: link[30]\n",
      "Now Crawling: link[31]\n",
      "Now Crawling: link[32]\n",
      "Now Crawling: link[33]\n",
      "Now Crawling: link[34]\n",
      "Now Crawling: link[35]\n",
      "Now Crawling: link[36]\n",
      "Now Crawling: link[37]\n",
      "Now Crawling: link[38]\n",
      "Now Crawling: link[39]\n",
      "Now Crawling: link[40]\n",
      "Now Crawling: link[41]\n",
      "Now Crawling: link[42]\n",
      "Now Crawling: link[43]\n",
      "Now Crawling: link[44]\n",
      "Now Crawling: link[45]\n",
      "Now Crawling: link[46]\n",
      "Now Crawling: link[47]\n",
      "Now Crawling: link[48]\n",
      "Now Crawling: link[49]\n",
      "Now Crawling: link[50]\n",
      "Now Crawling: link[51]\n",
      "Now Crawling: link[52]\n",
      "Now Crawling: link[53]\n",
      "Now Crawling: link[54]\n",
      "Now Crawling: link[55]\n",
      "Now Crawling: link[56]\n",
      "Now Crawling: link[57]\n",
      "Now Crawling: link[58]\n",
      "Now Crawling: link[59]\n",
      "Now Crawling: link[60]\n",
      "Now Crawling: link[61]\n",
      "Now Crawling: link[62]\n",
      "Now Crawling: link[63]\n",
      "Now Crawling: link[64]\n",
      "Now Crawling: link[65]\n",
      "Now Crawling: link[66]\n",
      "Now Crawling: link[67]\n",
      "Now Crawling: link[68]\n",
      "Now Crawling: link[69]\n",
      "Now Crawling: link[70]\n",
      "Now Crawling: link[0]\n",
      "Now Crawling: link[1]\n",
      "Now Crawling: link[2]\n",
      "Now Crawling: link[3]\n",
      "Now Crawling: link[4]\n",
      "Now Crawling: link[5]\n",
      "Now Crawling: link[6]\n",
      "Now Crawling: link[7]\n",
      "Now Crawling: link[8]\n",
      "Now Crawling: link[9]\n",
      "Now Crawling: link[10]\n",
      "Now Crawling: link[11]\n",
      "Now Crawling: link[12]\n",
      "Now Crawling: link[13]\n",
      "Now Crawling: link[14]\n",
      "Now Crawling: link[15]\n",
      "Now Crawling: link[16]\n",
      "Now Crawling: link[17]\n",
      "Now Crawling: link[18]\n",
      "Now Crawling: link[19]\n",
      "Now Crawling: link[20]\n",
      "Now Crawling: link[21]\n",
      "Now Crawling: link[22]\n",
      "Now Crawling: link[23]\n",
      "Now Crawling: link[24]\n",
      "Now Crawling: link[25]\n",
      "Now Crawling: link[26]\n",
      "Now Crawling: link[27]\n",
      "Now Crawling: link[28]\n",
      "Now Crawling: link[29]\n",
      "Now Crawling: link[30]\n",
      "Now Crawling: link[31]\n",
      "Now Crawling: link[32]\n",
      "Now Crawling: link[33]\n",
      "Now Crawling: link[34]\n",
      "Now Crawling: link[35]\n",
      "Now Crawling: link[36]\n",
      "Now Crawling: link[37]\n",
      "Now Crawling: link[38]\n",
      "Now Crawling: link[39]\n",
      "Now Crawling: link[40]\n",
      "Now Crawling: link[41]\n",
      "Now Crawling: link[42]\n",
      "Now Crawling: link[43]\n",
      "Now Crawling: link[44]\n",
      "Now Crawling: link[45]\n",
      "Now Crawling: link[46]\n",
      "Now Crawling: link[47]\n",
      "Now Crawling: link[48]\n",
      "Now Crawling: link[49]\n",
      "Now Crawling: link[50]\n",
      "Now Crawling: link[51]\n",
      "Now Crawling: link[0]\n",
      "Now Crawling: link[1]\n",
      "Now Crawling: link[2]\n",
      "Now Crawling: link[3]\n",
      "Now Crawling: link[4]\n",
      "Now Crawling: link[5]\n",
      "Now Crawling: link[6]\n",
      "Now Crawling: link[7]\n",
      "Now Crawling: link[8]\n",
      "Now Crawling: link[9]\n",
      "Now Crawling: link[10]\n",
      "Now Crawling: link[11]\n",
      "Now Crawling: link[12]\n",
      "Now Crawling: link[13]\n",
      "Now Crawling: link[14]\n",
      "Now Crawling: link[15]\n",
      "Now Crawling: link[16]\n",
      "Now Crawling: link[17]\n",
      "Now Crawling: link[18]\n",
      "Now Crawling: link[19]\n",
      "Now Crawling: link[20]\n",
      "Now Crawling: link[21]\n",
      "Now Crawling: link[22]\n",
      "Now Crawling: link[23]\n",
      "Now Crawling: link[0]\n",
      "Now Crawling: link[1]\n",
      "Now Crawling: link[2]\n",
      "Now Crawling: link[3]\n",
      "Now Crawling: link[4]\n",
      "Now Crawling: link[5]\n",
      "Now Crawling: link[6]\n",
      "Now Crawling: link[7]\n",
      "Now Crawling: link[8]\n",
      "Now Crawling: link[9]\n",
      "Now Crawling: link[0]\n",
      "Now Crawling: link[1]\n",
      "Now Crawling: link[2]\n",
      "Now Crawling: link[3]\n",
      "Now Crawling: link[4]\n",
      "Now Crawling: link[5]\n",
      "Now Crawling: link[6]\n",
      "Now Crawling: link[7]\n",
      "Now Crawling: link[8]\n",
      "Now Crawling: link[9]\n",
      "Now Crawling: link[10]\n",
      "Now Crawling: link[11]\n"
     ]
    }
   ],
   "source": [
    "for i in videos.keys():\n",
    "    for j in range(len(videos[i]['link'])):\n",
    "        print('Now Crawling: link[{}]'.format(j))\n",
    "        comment=get_comment(videos[i]['link'][j])\n",
    "        if len(comment)==0:\n",
    "            continue\n",
    "        comment.to_excel('C:\\jupyter\\\\'+cleanText(i)+'\\\\{}_'.format(j)+cleanText(videos[i]['title'][j])+'.xlsx')"
   ]
  },
  {
   "cell_type": "markdown",
   "metadata": {},
   "source": [
    "# 플레이리스트의 영상 정보 추출"
   ]
  },
  {
   "cell_type": "code",
   "execution_count": 114,
   "metadata": {},
   "outputs": [],
   "source": [
    "#입력 파라미터로 plyst_video에는 videos['key'] 넣으시면 됩니다.\n",
    "def info_from_video(plyst_video):\n",
    "    title = plyst_video['title']\n",
    "    link = plyst_video['link']\n",
    "    thumnail = []\n",
    "    like = []\n",
    "    dislike = []\n",
    "    view = []\n",
    "    upload_date=[]\n",
    "    num = len(link)\n",
    "    while num:\n",
    "        i = len(link)-num\n",
    "        print('Now Crawling: link[{}]'.format(i))\n",
    "        url = link[i]\n",
    "        html = urlopen(url)\n",
    "        time.sleep(0.5)\n",
    "        soup = BeautifulSoup(html, 'html.parser')\n",
    "        thumnail.append(soup.find('meta',{'name':\"twitter:image\"})['content'])\n",
    "        temp = soup.find('button',{'title':'이 동영상이 마음에 듭니다.'})\n",
    "        try:\n",
    "            temp = temp.text\n",
    "        except:\n",
    "            thumnail = thumnail[:(len(thumnail)-1)]\n",
    "            continue\n",
    "        like.append(temp)\n",
    "        temp = soup.find('button',{'title':'이 동영상이 마음에 들지 않습니다.'})\n",
    "        temp = temp.text\n",
    "        dislike.append(temp)\n",
    "        view.append(soup.find('div',{'class':\"watch-view-count\"}).text.strip())\n",
    "        upload_date.append(soup.find('strong',{'class':'watch-time-text'}).text)\n",
    "        num-=1\n",
    "\n",
    "    info = {'title':title,'link':link,'thumnails':thumnail,'upload date':upload_date,'like':like,'dislike':dislike,'view':view}\n",
    "    info_df = pd.DataFrame(info)\n",
    "    return info_df"
   ]
  },
  {
   "cell_type": "code",
   "execution_count": 115,
   "metadata": {
    "collapsed": true
   },
   "outputs": [
    {
     "name": "stdout",
     "output_type": "stream",
     "text": [
      "Now Crawling: link[0]\n",
      "Now Crawling: link[1]\n",
      "Now Crawling: link[2]\n",
      "Now Crawling: link[3]\n",
      "Now Crawling: link[4]\n",
      "Now Crawling: link[5]\n",
      "Now Crawling: link[6]\n",
      "Now Crawling: link[7]\n",
      "Now Crawling: link[8]\n",
      "Now Crawling: link[9]\n",
      "Now Crawling: link[9]\n",
      "Now Crawling: link[10]\n",
      "Now Crawling: link[11]\n",
      "Now Crawling: link[12]\n",
      "Now Crawling: link[13]\n",
      "Now Crawling: link[14]\n",
      "Now Crawling: link[15]\n",
      "Now Crawling: link[16]\n",
      "Now Crawling: link[17]\n",
      "Now Crawling: link[18]\n",
      "Now Crawling: link[19]\n",
      "Now Crawling: link[20]\n",
      "Now Crawling: link[20]\n",
      "Now Crawling: link[21]\n",
      "Now Crawling: link[22]\n",
      "Now Crawling: link[23]\n",
      "Now Crawling: link[24]\n",
      "Now Crawling: link[25]\n",
      "Now Crawling: link[26]\n",
      "Now Crawling: link[27]\n",
      "Now Crawling: link[28]\n",
      "Now Crawling: link[29]\n",
      "Now Crawling: link[30]\n",
      "Now Crawling: link[31]\n",
      "Now Crawling: link[32]\n",
      "Now Crawling: link[33]\n",
      "Now Crawling: link[34]\n",
      "Now Crawling: link[35]\n",
      "Now Crawling: link[36]\n",
      "Now Crawling: link[37]\n",
      "Now Crawling: link[38]\n",
      "Now Crawling: link[39]\n",
      "Now Crawling: link[40]\n",
      "Now Crawling: link[41]\n",
      "Now Crawling: link[42]\n",
      "Now Crawling: link[43]\n",
      "Now Crawling: link[44]\n",
      "Now Crawling: link[45]\n",
      "Now Crawling: link[46]\n",
      "Now Crawling: link[47]\n",
      "Now Crawling: link[48]\n",
      "Now Crawling: link[49]\n",
      "Now Crawling: link[50]\n",
      "Now Crawling: link[51]\n",
      "Now Crawling: link[0]\n",
      "Now Crawling: link[1]\n",
      "Now Crawling: link[2]\n",
      "Now Crawling: link[3]\n",
      "Now Crawling: link[4]\n",
      "Now Crawling: link[5]\n",
      "Now Crawling: link[6]\n",
      "Now Crawling: link[7]\n",
      "Now Crawling: link[8]\n",
      "Now Crawling: link[9]\n",
      "Now Crawling: link[10]\n",
      "Now Crawling: link[11]\n",
      "Now Crawling: link[12]\n",
      "Now Crawling: link[13]\n",
      "Now Crawling: link[14]\n",
      "Now Crawling: link[15]\n",
      "Now Crawling: link[16]\n",
      "Now Crawling: link[16]\n",
      "Now Crawling: link[17]\n",
      "Now Crawling: link[18]\n",
      "Now Crawling: link[19]\n",
      "Now Crawling: link[20]\n",
      "Now Crawling: link[21]\n",
      "Now Crawling: link[22]\n",
      "Now Crawling: link[22]\n",
      "Now Crawling: link[23]\n",
      "Now Crawling: link[0]\n",
      "Now Crawling: link[1]\n",
      "Now Crawling: link[2]\n",
      "Now Crawling: link[3]\n",
      "Now Crawling: link[4]\n",
      "Now Crawling: link[5]\n",
      "Now Crawling: link[6]\n",
      "Now Crawling: link[7]\n",
      "Now Crawling: link[8]\n",
      "Now Crawling: link[9]\n",
      "Now Crawling: link[0]\n",
      "Now Crawling: link[1]\n",
      "Now Crawling: link[2]\n",
      "Now Crawling: link[3]\n",
      "Now Crawling: link[4]\n",
      "Now Crawling: link[5]\n",
      "Now Crawling: link[6]\n",
      "Now Crawling: link[7]\n",
      "Now Crawling: link[8]\n",
      "Now Crawling: link[9]\n",
      "Now Crawling: link[10]\n",
      "Now Crawling: link[11]\n"
     ]
    }
   ],
   "source": [
    "for i in videos.keys():\n",
    "    info=info_from_video(videos[i])\n",
    "    info.to_excel('C:\\jupyter\\\\'+cleanText(i)+'\\\\'+cleanText(i)+'_info'+'.xlsx')"
   ]
  },
  {
   "cell_type": "markdown",
   "metadata": {},
   "source": [
    "# 메타데이터 크롤링 코드"
   ]
  },
  {
   "cell_type": "code",
   "execution_count": 39,
   "metadata": {},
   "outputs": [],
   "source": [
    "def uniq(input):\n",
    "    output = []\n",
    "    for x in input:\n",
    "        if x not in output:\n",
    "            output.append(x)\n",
    "    return output"
   ]
  },
  {
   "cell_type": "markdown",
   "metadata": {},
   "source": [
    "# 키워드 기반 링크 추출"
   ]
  },
  {
   "cell_type": "code",
   "execution_count": 41,
   "metadata": {},
   "outputs": [],
   "source": [
    "def _searchkeyword(keyword):\n",
    "    url = 'https://www.youtube.com/results?search_query=' + keyword +'+-2020' +'&sp=EgIQAQ%253D%253D'\n",
    "    driver = wd.Chrome(executable_path=\"chromedriver.exe\")\n",
    "    driver.get(url)\n",
    "\n",
    "    time.sleep(5)\n",
    "    endk = 3\n",
    "\n",
    "    meta = {'title':[],'link':[]}\n",
    "\n",
    "    while True:\n",
    "        driver.execute_script(\"window.scrollTo(0, document.documentElement.scrollHeight);\")\n",
    "        time.sleep(3.0)\n",
    "        html2=driver.page_source\n",
    "        soup = BeautifulSoup(html2, 'lxml')\n",
    "        a=soup.find_all('a',{'id':\"video-title\"})\n",
    "        for i in a:\n",
    "            meta['link'].append('https://www.youtube.com'+i['href'])\n",
    "            meta['title'].append(i['title'])\n",
    "        meta['link']=uniq(meta['link'])\n",
    "        meta['title']=uniq(meta['title'])\n",
    "        if len(meta['link']) > 100:\n",
    "            break\n",
    "        \n",
    "    driver.close()\n",
    "    return meta"
   ]
  },
  {
   "cell_type": "markdown",
   "metadata": {},
   "source": [
    "# 링크에서 정보 추출"
   ]
  },
  {
   "cell_type": "code",
   "execution_count": 24,
   "metadata": {},
   "outputs": [],
   "source": [
    "def _info_from_meta(plyst_video):\n",
    "    title = plyst_video['title']\n",
    "    link = plyst_video['link']\n",
    "    thumnail = []\n",
    "    like = []\n",
    "    dislike = []\n",
    "    view = []\n",
    "    upload_date=[]\n",
    "    num = len(link)\n",
    "    link2 = []\n",
    "    title2 = []\n",
    "    thum_err=[]\n",
    "    like_err=[]\n",
    "    subscribe=[]\n",
    "    cnt=0\n",
    "    while num:\n",
    "        i = len(link)-num\n",
    "        print('Now Crawling: link[{}]'.format(i))\n",
    "        url = link[i]\n",
    "        name = title[i]\n",
    "        html = urlopen(url)\n",
    "        time.sleep(0.5)\n",
    "        soup = BeautifulSoup(html, 'html.parser')\n",
    "        try:\n",
    "            thumnail.append(soup.find('meta',{'name':\"twitter:image\"})['content'])\n",
    "        except:\n",
    "            print('Error: Thumnail Error')\n",
    "            num-=1\n",
    "            thum_err.append(i)\n",
    "            continue\n",
    "            \n",
    "        temp = soup.find('button',{'title':'이 동영상이 마음에 듭니다.'})\n",
    "        try:\n",
    "            temp = temp.text\n",
    "        except:\n",
    "            thumnail = thumnail[:(len(thumnail)-1)]\n",
    "            cnt+=1\n",
    "            if cnt == 4:\n",
    "                cnt=0\n",
    "                num-=1\n",
    "            continue\n",
    "        like.append(temp)\n",
    "        temp = soup.find('button',{'title':'이 동영상이 마음에 들지 않습니다.'})\n",
    "        temp = temp.text\n",
    "        dislike.append(temp)\n",
    "        view.append(soup.find('div',{'class':\"watch-view-count\"}).text.strip())\n",
    "        upload_date.append(soup.find('strong',{'class':'watch-time-text'}).text)\n",
    "        link2.append(url)\n",
    "        title2.append(name)\n",
    "        try:\n",
    "            subscribe.append(soup.find('span',{'tabindex':'0'}).text.strip())\n",
    "        except:\n",
    "            subscribe.append('X')\n",
    "        num-=1\n",
    "\n",
    "    info = {'title':title2,'link':link2,'thumnails':thumnail,'upload date':upload_date,'like':like,'dislike':dislike,'view':view\n",
    "           ,'subscribe':subscribe}\n",
    "    info_df = pd.DataFrame(info)\n",
    "    \n",
    "    #여기서부터 전처리 코드\n",
    "    for idx, info_df['subscribe']_df['subscribe']):\n",
    "        if i[-1] == '만':\n",
    "            info_df['subscribe'][idx] = float(i[:-1])*10000\n",
    "        elif i == 'X':\n",
    "            info_df['subscribe'][idx] = -1\n",
    "        elif i[-1] == '천':\n",
    "            info_df['subscribe'][idx] = float(i[:-1])*1000\n",
    "        else:\n",
    "            i = float(i)\n",
    "            \n",
    "    info_df['upload date'] = ['-'.join(re.findall('\\d+',re.sub('[ㄱ-힣\\: ]','',j))) for j in info_df['upload date']]\n",
    "    info_df['like'] = [int(re.sub(',','',i)) for i in info_df['like']]\n",
    "    info_df['dislike'] = [int(re.sub(',','',i)) for i in info_df['dislike']]\n",
    "    info_df['view'] = [int(re.sub('[ㄱ-힣\\,]','',i)) for i in info_df['view']]\n",
    "    \n",
    "    info_df = info_df[info_df['subscribe']!=-1][info_df['like']!='' ]\n",
    "    \n",
    "    info_df['like_ratio'] = round(info_df['like'] / (info_df['like'] + info_df['dislike']),5)\n",
    "    info_df['view_subscribe'] = round(info_df['view']/ info_df['subscribe'],5)\n",
    "    info_df['like_subscribe'] = round(info_df['like']/ info_df['subscribe'],5)\n",
    "    info_df['like_view'] = round(info_df['like']/ info_df['view'],5)\n",
    "    \n",
    "    return info_df"
   ]
  },
  {
   "cell_type": "markdown",
   "metadata": {},
   "source": [
    "# 크롤링 자동화 함수"
   ]
  },
  {
   "cell_type": "code",
   "execution_count": 2,
   "metadata": {},
   "outputs": [],
   "source": [
    "#메타데이터 크롤링\n",
    "def crawling_meta_data():\n",
    "    keyword=[]\n",
    "    print('If you want to enter keywords, please enter \\'n\\'')\n",
    "    while 1:\n",
    "        k=input('Please Enter the contents Keyword: ')\n",
    "        if k == 'n':\n",
    "            break\n",
    "        else: keyword.append(k)\n",
    "    \n",
    "    #메타데이터를 저장할 디렉토리 생성\n",
    "    try:\n",
    "        if not(os.path.isdir('meta_data')):\n",
    "            os.makedirs(os.path.join('meta_data'))\n",
    "    except OSError as e:\n",
    "        if e.errno != errno.EEXIST:\n",
    "            print(\"Failed to create directory!!!!!\")\n",
    "            raise\n",
    "    \n",
    "    df={}\n",
    "    meta={}\n",
    "        \n",
    "    for i in keyword:\n",
    "        meta[i] = _searchkeyword(i)\n",
    "        df[i]=_info_from_meta(meta[i])\n",
    "        df[i].to_csv('.\\\\meta_data\\\\{}.txt'.format(i))\n",
    "    \n",
    "    return df"
   ]
  },
  {
   "cell_type": "markdown",
   "metadata": {},
   "source": [
    "## 필요 데이터\n",
    "### 1. nadrop.txt 파일\n",
    "### 2. 오프로 카테고리별 폴더파일"
   ]
  },
  {
   "cell_type": "code",
   "execution_count": 1,
   "metadata": {},
   "outputs": [],
   "source": [
    "from selenium import webdriver as wd\n",
    "from selenium.webdriver.common.keys import Keys\n",
    "from time import localtime, strftime\n",
    "from urllib.request import urlopen\n",
    "from urllib import parse\n",
    "import time\n",
    "from bs4 import BeautifulSoup\n",
    "import pandas as pd\n",
    "import csv\n",
    "import re\n",
    "import pandas as pd\n",
    "import re"
   ]
  },
  {
   "cell_type": "code",
   "execution_count": 2,
   "metadata": {},
   "outputs": [],
   "source": [
    "keyword = ['식당후기','직업','브이로그','토크','제품리뷰']\n",
    "categories =  ['♣Food  Restaurant Review', '♣JOB소리 Talk', '♣Vlog l여행', \n",
    "               '♣오프로 Talk', '♣제품 리뷰 l Product Review']"
   ]
  },
  {
   "cell_type": "code",
   "execution_count": 3,
   "metadata": {},
   "outputs": [],
   "source": [
    "meta_data={}\n",
    "#수정된 코드는 .txt로 바로 불러와도 되지만 저희는 _meta_2.txt로 불러와야합니다.\n",
    "for i in keyword:\n",
    "    meta_data[i] = pd.read_csv(i+'nadrop.txt').dropna(axis=0)"
   ]
  },
  {
   "cell_type": "code",
   "execution_count": 4,
   "metadata": {},
   "outputs": [],
   "source": [
    "import matplotlib.pyplot as plt\n",
    "import numpy as np\n",
    "import scipy as sp\n",
    "import scipy.stats as st\n",
    "from scipy.stats import poisson as poi\n",
    "import os"
   ]
  },
  {
   "cell_type": "code",
   "execution_count": 5,
   "metadata": {},
   "outputs": [],
   "source": [
    "import math as m"
   ]
  },
  {
   "cell_type": "code",
   "execution_count": 6,
   "metadata": {},
   "outputs": [],
   "source": [
    "import re\n",
    "import matplotlib.font_manager as fm"
   ]
  },
  {
   "cell_type": "code",
   "execution_count": 10,
   "metadata": {},
   "outputs": [],
   "source": [
    "for i in keyword:\n",
    "    meta_data[i] = meta_data[i][meta_data[i]['subscribe']!=-1][meta_data[i]['like']!=999999 ]\n",
    "    meta_data[i] = meta_data[i][meta_data[i]['subscribe'] > 0]\n",
    "    meta_data[i] = meta_data[i][meta_data[i]['like'] > 1]"
   ]
  },
  {
   "cell_type": "code",
   "execution_count": 13,
   "metadata": {},
   "outputs": [],
   "source": [
    "def getresults(key):\n",
    "    fontprop = fm.FontProperties(fname=\"NanumGothicBold.ttf\", size=24)\n",
    "    \n",
    "    path = \"오프로//\"+categories[key]\n",
    "    file_list = os.listdir(path)\n",
    "    file_path = path + \"//\"+file_list[-1]\n",
    "    org_df = pd.read_excel(file_path)\n",
    "    org_df['subscribe'] = float(19200)\n",
    "    \n",
    "    # 데이터 전처리\n",
    "    org_df['upload date'] = ['-'.join(re.findall('\\d+',re.sub('[ㄱ-힣\\: ]','',j))) for j in org_df['upload date']]\n",
    "    org_df['like'] = [float(re.sub(',','',str(i))) for i in org_df['like']]\n",
    "    org_df['dislike'] = [float(re.sub(',','',str(i))) for i in org_df['dislike']]\n",
    "    org_df['view'] = [int(re.sub('[ㄱ-힣\\,]','',i)) for i in org_df['view']]\n",
    "    \n",
    "    # 지표 생성\n",
    "    org_df = org_df[['title','upload date', 'like', 'dislike','view','subscribe' ]]\n",
    "    org_df['like_ratio'] = round(org_df['like'] / (org_df['like'] + org_df['dislike']),5)\n",
    "    org_df['view_subscribe'] = round(org_df['view']/ org_df['subscribe'],5)\n",
    "    org_df['like_subscribe'] = round(org_df['like']/ org_df['subscribe'],5)\n",
    "    org_df['like_view'] = round(org_df['like']/ org_df['view'],5)\n",
    "    \n",
    "    #결측치 제거\n",
    "    org_df=org_df.dropna(axis=0)\n",
    "\n",
    "    # 지표별 평균 구하기\n",
    "    like_ratio = org_df['like_ratio'].mean()\n",
    "    view_subscribe = org_df['view_subscribe'].mean()\n",
    "    like_view = org_df['like_view'].mean()\n",
    "    like_subscribe = org_df['like_subscribe'].mean()\n",
    "    i = keyword[key]\n",
    "    \n",
    "    f = plt.figure(figsize=(10,10))\n",
    "    fig1 = f.add_subplot(221)\n",
    "    fig2 = f.add_subplot(222)\n",
    "    fig3 = f.add_subplot(223)\n",
    "    fig4 = f.add_subplot(224)\n",
    "\n",
    "    \n",
    "    print(i,\"장르 내 결과입니다.\")\n",
    "    # like_view\n",
    "    \n",
    "    lamb1=sum(meta_data[i]['like_view'])*1000/len(meta_data[i]['like_view'])\n",
    "    max1 = max(meta_data[i]['like_view']*1000)\n",
    "    min1 = min(meta_data[i]['like_view']*1000)\n",
    "    x1=np.linspace(min1,max1,100)\n",
    "    y1=poi(lamb1).pmf(x1)\n",
    "        \n",
    "    fig1.set_title('1000조회수 당 좋아요',fontproperties=fontprop,fontsize=10)\n",
    "    fig1.set_ylabel('확률',fontproperties=fontprop,fontsize=10)\n",
    "    fig1.plot(x1,y1)\n",
    "        \n",
    "    mu=np.arange(0,round((like_view*1000),0)+1,1)\n",
    "    mu_y=poi(lamb1).pmf(mu)\n",
    "    tier = round((1-sum(mu_y))*100,2)\n",
    "    \n",
    "    fig1.plot(mu,mu_y,'r')\n",
    "    fig1.fill_between(mu,mu_y,facecolor='r')\n",
    "    \n",
    "    fig1.set_xlabel('조회수 대비 좋아요 비율은 상위 {}%입니다'.format(tier),fontproperties=fontprop,fontsize=12)\n",
    "\n",
    "    \n",
    "    \n",
    "    # like_subscribe\n",
    "    logged = np.log(meta_data[i][meta_data[i]['like_subscribe']<200]['like_subscribe'])\n",
    "    m = logged.describe()['mean']\n",
    "    std = logged.describe()['std']\n",
    "    rv = st.norm(loc = m, scale = std)\n",
    "    max2=max(logged)\n",
    "    min2=min(logged)\n",
    "    x2=np.linspace(min2,max2,100)\n",
    "    y2=rv.pdf(x2)\n",
    "    fig2.plot(x2,y2)\n",
    "    mu2=np.linspace(min2,np.log(like_subscribe),100)\n",
    "    mu2_y=rv.pdf(mu2)\n",
    "    fig2.plot(mu2,mu2_y,'r')\n",
    "    fig2.fill_between(mu2,mu2_y,facecolor='r')\n",
    "    tik=np.linspace(min2,max2,5)\n",
    "    fig2.set_xticks(tik)\n",
    "    fig2.set_xticklabels([round(i,2)for i in np.exp(tik)]) \n",
    "    \n",
    "    tier = round(100-rv.cdf(np.log(like_subscribe))*100,2)\n",
    "    fig2.set_xlabel('구독자 대비 좋아요 상위 {}%입니다'.format(tier),fontproperties=fontprop,fontsize=12)\n",
    "    fig2.set_ylabel('확률',fontproperties=fontprop,fontsize=10)\n",
    "    fig2.set_title('좋아요/구독자',fontproperties=fontprop,fontsize=10)\n",
    "    \n",
    "    \n",
    "    # like_ratio\n",
    "    logged = np.log(meta_data[i]['like_ratio'])\n",
    "    m = logged.describe()['mean']\n",
    "    std = logged.describe()['std']\n",
    "    a, loc, scale = st.skewnorm.fit(logged)\n",
    "    rv = st.skewnorm(a = a, loc = loc, scale = scale)\n",
    "    max3=max(logged)\n",
    "    min3=min(logged)\n",
    "    x3=np.linspace(min3,max3,100)\n",
    "    y3=rv.pdf(x3)\n",
    "    fig3.plot(x3,y3)\n",
    "    mu3=np.linspace(min3,np.log(like_ratio),100)\n",
    "    mu3_y=rv.pdf(mu3)\n",
    "    fig3.plot(mu3,mu3_y,'r')\n",
    "    fig3.fill_between(mu3,mu3_y,facecolor='r')\n",
    "    tier = round(100-rv.cdf(np.log(like_ratio))*100,2)\n",
    "    tik=np.linspace(min3,max3,5)\n",
    "    fig3.set_xticks(tik)\n",
    "    fig3.set_xticklabels([round(i,2)for i in np.exp(tik)])\n",
    "    fig3.set_xlabel('좋아요 비율은 상위 {}%입니다'.format(tier),fontproperties=fontprop,fontsize=12)\n",
    "    fig3.set_ylabel('확률',fontproperties=fontprop,fontsize=10)\n",
    "    fig3.set_title('좋아요/좋아요+싫어요',fontproperties=fontprop,fontsize=10)\n",
    "    \n",
    "    # view_subscribe\n",
    "    logged = np.log(meta_data[i]['view_subscribe'])\n",
    "    m = logged.describe()['mean']\n",
    "    std = logged.describe()['std']\n",
    "    rv = st.norm(loc = m, scale = std)\n",
    "    max4=max(logged)\n",
    "    min4=min(logged)\n",
    "    x4=np.linspace(min4,max4,100)\n",
    "    y4=rv.pdf(x4)\n",
    "    fig4.plot(x4,y4)\n",
    "    mu4=np.linspace(min4,np.log(view_subscribe),100)\n",
    "    mu4_y=rv.pdf(mu4)\n",
    "    fig4.plot(mu4,mu4_y,'r')\n",
    "    fig4.fill_between(mu4,mu4_y,facecolor='r')\n",
    "    tier = round(100-rv.cdf(np.log(view_subscribe))*100,2)\n",
    "    tik=np.linspace(min4,max4,5)\n",
    "    fig4.set_xticks(tik)\n",
    "    fig4.set_xticklabels([round(i,2)for i in np.exp(tik)])\n",
    "    fig4.set_xlabel('구독자 대비 조회수 비율은 상위 {}%입니다'.format(tier),fontproperties=fontprop,fontsize=12)\n",
    "    fig4.set_ylabel('확률',fontproperties=fontprop,fontsize=10)\n",
    "    fig4.set_title('조회수/구독자',fontproperties=fontprop,fontsize=10)\n",
    "    plt.show()\n",
    "    f.savefig(i+'.png',dpi=f.dpi)"
   ]
  },
  {
   "cell_type": "code",
   "execution_count": 14,
   "metadata": {},
   "outputs": [
    {
     "name": "stdout",
     "output_type": "stream",
     "text": [
      "식당후기 장르 내 결과입니다.\n"
     ]
    },
    {
     "data": {
      "image/png": "[encoded data removed]",
      "text/plain": [
       "<Figure size 720x720 with 4 Axes>"
      ]
     },
     "metadata": {
      "needs_background": "light"
     },
     "output_type": "display_data"
    },
    {
     "name": "stdout",
     "output_type": "stream",
     "text": [
      "\n",
      "\n",
      "직업 장르 내 결과입니다.\n"
     ]
    },
    {
     "data": {
      "image/png": "[encoded data removed]",
      "text/plain": [
       "<Figure size 720x720 with 4 Axes>"
      ]
     },
     "metadata": {
      "needs_background": "light"
     },
     "output_type": "display_data"
    },
    {
     "name": "stdout",
     "output_type": "stream",
     "text": [
      "\n",
      "\n",
      "브이로그 장르 내 결과입니다.\n"
     ]
    },
    {
     "data": {
      "image/png": "[encoded data removed]",
      "text/plain": [
       "<Figure size 720x720 with 4 Axes>"
      ]
     },
     "metadata": {
      "needs_background": "light"
     },
     "output_type": "display_data"
    },
    {
     "name": "stdout",
     "output_type": "stream",
     "text": [
      "\n",
      "\n",
      "토크 장르 내 결과입니다.\n"
     ]
    },
    {
     "data": {
      "image/png": "[encoded data removed]",
      "text/plain": [
       "<Figure size 720x720 with 4 Axes>"
      ]
     },
     "metadata": {
      "needs_background": "light"
     },
     "output_type": "display_data"
    },
    {
     "name": "stdout",
     "output_type": "stream",
     "text": [
      "\n",
      "\n",
      "제품리뷰 장르 내 결과입니다.\n"
     ]
    },
    {
     "data": {
      "image/png": "[encoded data removed]",
      "text/plain": [
       "<Figure size 720x720 with 4 Axes>"
      ]
     },
     "metadata": {
      "needs_background": "light"
     },
     "output_type": "display_data"
    },
    {
     "name": "stdout",
     "output_type": "stream",
     "text": [
      "\n",
      "\n"
     ]
    }
   ],
   "source": [
    "for i in range(len(keyword)):\n",
    "    getresults(i)\n",
    "    print('\\n')"
   ]
  },
  {
   "cell_type": "markdown",
   "metadata": {},
   "source": [
    "# Sentiment 적용"
   ]
  },
  {
   "cell_type": "markdown",
   "metadata": {},
   "source": [
    "## Vlog"
   ]
  },
  {
   "cell_type": "code",
   "execution_count": 1,
   "metadata": {},
   "outputs": [],
   "source": [
    "import pandas as pd\n",
    "import os\n",
    "import glob\n",
    "import re"
   ]
  },
  {
   "cell_type": "code",
   "execution_count": 2,
   "metadata": {},
   "outputs": [],
   "source": [
    "df = []\n",
    "for i in range(1,24):\n",
    "    dfname = \"Vlog\" + str(i) + '.xlsx'\n",
    "    tempdf = pd.read_excel(dfname)\n",
    "    df.append(tempdf)"
   ]
  },
  {
   "cell_type": "code",
   "execution_count": 4,
   "metadata": {},
   "outputs": [],
   "source": [
    "df=pd.concat(df)"
   ]
  },
  {
   "cell_type": "code",
   "execution_count": 5,
   "metadata": {
    "scrolled": false
   },
   "outputs": [
    {
     "data": {
      "text/html": [
       "<div>\n",
       "<style scoped>\n",
       "    .dataframe tbody tr th:only-of-type {\n",
       "        vertical-align: middle;\n",
       "    }\n",
       "\n",
       "    .dataframe tbody tr th {\n",
       "        vertical-align: top;\n",
       "    }\n",
       "\n",
       "    .dataframe thead th {\n",
       "        text-align: right;\n",
       "    }\n",
       "</style>\n",
       "<table border=\"1\" class=\"dataframe\">\n",
       "  <thead>\n",
       "    <tr style=\"text-align: right;\">\n",
       "      <th></th>\n",
       "      <th>Unnamed: 0</th>\n",
       "      <th>youtube_id</th>\n",
       "      <th>comment</th>\n",
       "      <th>like_num</th>\n",
       "    </tr>\n",
       "  </thead>\n",
       "  <tbody>\n",
       "    <tr>\n",
       "      <th>0</th>\n",
       "      <td>0</td>\n",
       "      <td>오프로OhPro</td>\n",
       "      <td>(★여러분 영상 중에 제가 근대를 샐러드에 포함해서 먹는 장면이 나오는데 근대는 생...</td>\n",
       "      <td>10개</td>\n",
       "    </tr>\n",
       "    <tr>\n",
       "      <th>1</th>\n",
       "      <td>1</td>\n",
       "      <td>재횬</td>\n",
       "      <td>고민을 들어주세요\\n안녕하세요\\n전 학생입니다\\n전 학원에서 제 잘못땜에 사이가 틀...</td>\n",
       "      <td>3개</td>\n",
       "    </tr>\n",
       "    <tr>\n",
       "      <th>2</th>\n",
       "      <td>2</td>\n",
       "      <td>GraceJeon</td>\n",
       "      <td>바른생활오프로님!\\n오프로님의 잡소리에 공감 많이 하다가 구독자가 되었는데...\\n...</td>\n",
       "      <td>2개</td>\n",
       "    </tr>\n",
       "    <tr>\n",
       "      <th>3</th>\n",
       "      <td>3</td>\n",
       "      <td>보나</td>\n",
       "      <td>박스안 구독종이 정말 혼자 빵터져 웃었네요 🤭🤭🤭🤭\\n일상 브이로그 영상 넘 좋아요🤗🤭👍</td>\n",
       "      <td>3개</td>\n",
       "    </tr>\n",
       "    <tr>\n",
       "      <th>4</th>\n",
       "      <td>4</td>\n",
       "      <td>MmM</td>\n",
       "      <td>와...자취하면서 뭔가를 해먹는다는게 대단👍</td>\n",
       "      <td>3개</td>\n",
       "    </tr>\n",
       "  </tbody>\n",
       "</table>\n",
       "</div>"
      ],
      "text/plain": [
       "   Unnamed: 0 youtube_id                                            comment  \\\n",
       "0           0   오프로OhPro  (★여러분 영상 중에 제가 근대를 샐러드에 포함해서 먹는 장면이 나오는데 근대는 생...   \n",
       "1           1         재횬  고민을 들어주세요\\n안녕하세요\\n전 학생입니다\\n전 학원에서 제 잘못땜에 사이가 틀...   \n",
       "2           2  GraceJeon  바른생활오프로님!\\n오프로님의 잡소리에 공감 많이 하다가 구독자가 되었는데...\\n...   \n",
       "3           3         보나  박스안 구독종이 정말 혼자 빵터져 웃었네요 🤭🤭🤭🤭\\n일상 브이로그 영상 넘 좋아요🤗🤭👍   \n",
       "4           4        MmM                           와...자취하면서 뭔가를 해먹는다는게 대단👍   \n",
       "\n",
       "  like_num  \n",
       "0      10개  \n",
       "1       3개  \n",
       "2       2개  \n",
       "3       3개  \n",
       "4       3개  "
      ]
     },
     "execution_count": 5,
     "metadata": {},
     "output_type": "execute_result"
    }
   ],
   "source": [
    "df.head()"
   ]
  },
  {
   "cell_type": "code",
   "execution_count": 6,
   "metadata": {},
   "outputs": [],
   "source": [
    "df['like_num'] = [re.sub(r'[^0-9]','', x) for x in df['like_num']]\n",
    "df['like_num'] = df['like_num'].astype(int)"
   ]
  },
  {
   "cell_type": "code",
   "execution_count": 8,
   "metadata": {
    "scrolled": true
   },
   "outputs": [],
   "source": [
    "import pandas as pd\n",
    "import re\n",
    "import konlpy\n",
    "import matplotlib.pyplot as plt\n",
    "from matplotlib import font_manager, rc\n",
    "import numpy as np\n",
    "font_name = font_manager.FontProperties(fname=\"c:/Windows/Fonts/malgun.ttf\").get_name()\n",
    "rc('font', family=font_name)\n",
    "plt.rcParams['figure.figsize'] = [20, 20]\n",
    "plt.rcParams.update({'font.size': 22})"
   ]
  },
  {
   "cell_type": "code",
   "execution_count": 9,
   "metadata": {},
   "outputs": [],
   "source": [
    "sent_dic = pd.read_csv('SentiWord_Dict.txt',sep = '\\t',header=None)"
   ]
  },
  {
   "cell_type": "code",
   "execution_count": 10,
   "metadata": {},
   "outputs": [],
   "source": [
    "sent_dic.iloc[14850,0]='갈등'\n",
    "sent_dic.iloc[14850,1]=-1"
   ]
  },
  {
   "cell_type": "code",
   "execution_count": 11,
   "metadata": {},
   "outputs": [],
   "source": [
    "pos_dic = sent_dic[sent_dic[1]>0]\n",
    "neg_dic = sent_dic[sent_dic[1]<0]\n",
    "neu_dic = sent_dic[sent_dic[1]==0]"
   ]
  },
  {
   "cell_type": "code",
   "execution_count": 13,
   "metadata": {},
   "outputs": [],
   "source": [
    "pos=[]\n",
    "neg=[]\n",
    "for i in df_s['comment']:\n",
    "    for j in i:\n",
    "        if len(sent_dic[sent_dic[0]==j])==1:\n",
    "            a = float(sent_dic[sent_dic[0]==j][1])\n",
    "            if a > 0:\n",
    "                pos.append(j)\n",
    "            elif a < 0:\n",
    "                neg.append(j)\n",
    "    pos = list(set(pos))\n",
    "    neg = list(set(neg))\n",
    "\n",
    "k={}\n",
    "for i in df_s['comment']:\n",
    "    for j in i:\n",
    "        k[j] = {'W1':0,'W1W2P':0,'W1W2N':0}\n",
    "\n",
    "for i in pos:\n",
    "    for j in df_s['comment']:\n",
    "        for p in j:\n",
    "            k[p]['W1']+=1\n",
    "            for po in pos:\n",
    "                if po in j:\n",
    "                    k[p]['W1W2P']+=1\n",
    "                    break\n",
    "            for ne in neg :\n",
    "                if ne in j:\n",
    "                    k[p]['W1W2N']+=1\n",
    "                    break\n",
    "\n",
    "k_t=pd.DataFrame(k)\n",
    "\n",
    "pos_cnt=sum(k_t.loc[::,pos].iloc[0,::])\n",
    "neg_cnt=sum(k_t.loc[::,neg].iloc[0,::])\n",
    "N=sum(k_t.iloc[0,::])\n",
    "\n",
    "k_f=k_t.T\n",
    "\n",
    "k_f['neg_cnt']=neg_cnt\n",
    "k_f['pos_cnt']=pos_cnt\n",
    "k_f['N']=N\n",
    "\n",
    "k_f['MI_N']=np.log2(k_f['W1W2N']*k_f['N']/k_f['W1']*k_f['neg_cnt'])\n",
    "k_f['MI_P']=np.log2(k_f['W1W2P']*k_f['N']/k_f['W1']*k_f['pos_cnt'])df.reset_index(drop=True, inplace=True) #데이터프레임 리인덱싱"
   ]
  },
  {
   "cell_type": "code",
   "execution_count": 14,
   "metadata": {
    "scrolled": true
   },
   "outputs": [],
   "source": [
    "#텍스트 전처리\n",
    "df_s={'youtube_id':[],'comment':[]}\n",
    "for idx,i in enumerate(df['comment']):\n",
    "    text=[]\n",
    "    a = re.sub('[^가-힣0-9a-zA-Z\\\\s]', '',i)\n",
    "    for j in a.split():\n",
    "        text.append(j)\n",
    "    df_s['youtube_id'].append(df['youtube_id'][idx])\n",
    "    df_s['comment'].append(' '.join(text))"
   ]
  },
  {
   "cell_type": "code",
   "execution_count": 15,
   "metadata": {},
   "outputs": [],
   "source": [
    "okt = konlpy.tag.Okt()"
   ]
  },
  {
   "cell_type": "code",
   "execution_count": 16,
   "metadata": {},
   "outputs": [],
   "source": [
    "for i,v in enumerate(df_s['comment']):\n",
    "    df_s['comment'][i] = okt.pos(v)"
   ]
  },
  {
   "cell_type": "code",
   "execution_count": 17,
   "metadata": {},
   "outputs": [],
   "source": [
    "for idx,i in enumerate(df_s['comment']):\n",
    "    text=[]\n",
    "    for j in i:\n",
    "        if j[1] == 'Adjective' or j[1]=='Adverb' or j[1] == 'Determiner' or j[1] == 'Noun' or j[1] == 'Verb' or 'Unknown':\n",
    "            text.append(j[0])\n",
    "    df_s['comment'][idx] = text"
   ]
  },
  {
   "cell_type": "code",
   "execution_count": 18,
   "metadata": {},
   "outputs": [],
   "source": [
    "pos=[]\n",
    "neg=[]\n",
    "for i in df_s['comment']:\n",
    "    for j in i:\n",
    "        if len(sent_dic[sent_dic[0]==j])==1:\n",
    "            a = float(sent_dic[sent_dic[0]==j][1])\n",
    "            if a > 0:\n",
    "                pos.append(j)\n",
    "            elif a < 0:\n",
    "                neg.append(j)\n",
    "    pos = list(set(pos))\n",
    "    neg = list(set(neg))"
   ]
  },
  {
   "cell_type": "code",
   "execution_count": 19,
   "metadata": {},
   "outputs": [],
   "source": [
    "k={}\n",
    "for i in df_s['comment']:\n",
    "    for j in i:\n",
    "        k[j] = {'W1':0,'W1W2P':0,'W1W2N':0}"
   ]
  },
  {
   "cell_type": "code",
   "execution_count": 20,
   "metadata": {},
   "outputs": [],
   "source": [
    "for i in pos:\n",
    "    for j in df_s['comment']:\n",
    "        for p in j:\n",
    "            k[p]['W1']+=1\n",
    "            for po in pos:\n",
    "                if po in j:\n",
    "                    k[p]['W1W2P']+=1\n",
    "                    break\n",
    "            for ne in neg :\n",
    "                if ne in j:\n",
    "                    k[p]['W1W2N']+=1\n",
    "                    break"
   ]
  },
  {
   "cell_type": "code",
   "execution_count": 21,
   "metadata": {},
   "outputs": [],
   "source": [
    "k_t=pd.DataFrame(k)"
   ]
  },
  {
   "cell_type": "code",
   "execution_count": 22,
   "metadata": {},
   "outputs": [],
   "source": [
    "pos_cnt=sum(k_t.loc[::,pos].iloc[0,::])\n",
    "neg_cnt=sum(k_t.loc[::,neg].iloc[0,::])\n",
    "N=sum(k_t.iloc[0,::])"
   ]
  },
  {
   "cell_type": "code",
   "execution_count": 23,
   "metadata": {},
   "outputs": [],
   "source": [
    "k_f=k_t.T"
   ]
  },
  {
   "cell_type": "code",
   "execution_count": 24,
   "metadata": {},
   "outputs": [],
   "source": [
    "k_f['neg_cnt']=neg_cnt\n",
    "k_f['pos_cnt']=pos_cnt\n",
    "k_f['N']=N"
   ]
  },
  {
   "cell_type": "code",
   "execution_count": 25,
   "metadata": {
    "scrolled": true
   },
   "outputs": [
    {
     "name": "stderr",
     "output_type": "stream",
     "text": [
      "C:\\Users\\4770pc2\\anaconda3\\lib\\site-packages\\pandas\\core\\series.py:679: RuntimeWarning: divide by zero encountered in log2\n",
      "  result = getattr(ufunc, method)(*inputs, **kwargs)\n"
     ]
    }
   ],
   "source": [
    "k_f['MI_N']=np.log2(k_f['W1W2N']*k_f['N']/k_f['W1']*k_f['neg_cnt'])\n",
    "k_f['MI_P']=np.log2(k_f['W1W2P']*k_f['N']/k_f['W1']*k_f['pos_cnt'])"
   ]
  },
  {
   "cell_type": "code",
   "execution_count": 26,
   "metadata": {},
   "outputs": [],
   "source": [
    "k_f['SO_MI']=k_f['MI_P'] - k_f['MI_N']"
   ]
  },
  {
   "cell_type": "code",
   "execution_count": 27,
   "metadata": {},
   "outputs": [],
   "source": [
    "k_n=k_f.replace([np.inf, -np.inf], np.nan).dropna(axis=0)"
   ]
  },
  {
   "cell_type": "code",
   "execution_count": 28,
   "metadata": {
    "scrolled": true
   },
   "outputs": [
    {
     "data": {
      "text/html": [
       "<div>\n",
       "<style scoped>\n",
       "    .dataframe tbody tr th:only-of-type {\n",
       "        vertical-align: middle;\n",
       "    }\n",
       "\n",
       "    .dataframe tbody tr th {\n",
       "        vertical-align: top;\n",
       "    }\n",
       "\n",
       "    .dataframe thead th {\n",
       "        text-align: right;\n",
       "    }\n",
       "</style>\n",
       "<table border=\"1\" class=\"dataframe\">\n",
       "  <thead>\n",
       "    <tr style=\"text-align: right;\">\n",
       "      <th></th>\n",
       "      <th>W1</th>\n",
       "      <th>W1W2P</th>\n",
       "      <th>W1W2N</th>\n",
       "      <th>neg_cnt</th>\n",
       "      <th>pos_cnt</th>\n",
       "      <th>N</th>\n",
       "      <th>MI_N</th>\n",
       "      <th>MI_P</th>\n",
       "      <th>SO_MI</th>\n",
       "    </tr>\n",
       "  </thead>\n",
       "  <tbody>\n",
       "    <tr>\n",
       "      <th>다낭</th>\n",
       "      <td>4698</td>\n",
       "      <td>2592</td>\n",
       "      <td>162</td>\n",
       "      <td>27540</td>\n",
       "      <td>121986</td>\n",
       "      <td>3644676</td>\n",
       "      <td>31.688619</td>\n",
       "      <td>37.835734</td>\n",
       "      <td>6.147115</td>\n",
       "    </tr>\n",
       "    <tr>\n",
       "      <th>본</th>\n",
       "      <td>2916</td>\n",
       "      <td>2430</td>\n",
       "      <td>162</td>\n",
       "      <td>27540</td>\n",
       "      <td>121986</td>\n",
       "      <td>3644676</td>\n",
       "      <td>32.376675</td>\n",
       "      <td>38.430681</td>\n",
       "      <td>6.054006</td>\n",
       "    </tr>\n",
       "    <tr>\n",
       "      <th>재밌게</th>\n",
       "      <td>2754</td>\n",
       "      <td>2106</td>\n",
       "      <td>162</td>\n",
       "      <td>27540</td>\n",
       "      <td>121986</td>\n",
       "      <td>3644676</td>\n",
       "      <td>32.459137</td>\n",
       "      <td>38.306692</td>\n",
       "      <td>5.847555</td>\n",
       "    </tr>\n",
       "    <tr>\n",
       "      <th>연말</th>\n",
       "      <td>1944</td>\n",
       "      <td>1620</td>\n",
       "      <td>162</td>\n",
       "      <td>27540</td>\n",
       "      <td>121986</td>\n",
       "      <td>3644676</td>\n",
       "      <td>32.961638</td>\n",
       "      <td>38.430681</td>\n",
       "      <td>5.469043</td>\n",
       "    </tr>\n",
       "    <tr>\n",
       "      <th>이에요</th>\n",
       "      <td>2430</td>\n",
       "      <td>1620</td>\n",
       "      <td>162</td>\n",
       "      <td>27540</td>\n",
       "      <td>121986</td>\n",
       "      <td>3644676</td>\n",
       "      <td>32.639709</td>\n",
       "      <td>38.108753</td>\n",
       "      <td>5.469043</td>\n",
       "    </tr>\n",
       "    <tr>\n",
       "      <th>...</th>\n",
       "      <td>...</td>\n",
       "      <td>...</td>\n",
       "      <td>...</td>\n",
       "      <td>...</td>\n",
       "      <td>...</td>\n",
       "      <td>...</td>\n",
       "      <td>...</td>\n",
       "      <td>...</td>\n",
       "      <td>...</td>\n",
       "    </tr>\n",
       "    <tr>\n",
       "      <th>직장</th>\n",
       "      <td>648</td>\n",
       "      <td>162</td>\n",
       "      <td>324</td>\n",
       "      <td>27540</td>\n",
       "      <td>121986</td>\n",
       "      <td>3644676</td>\n",
       "      <td>35.546600</td>\n",
       "      <td>36.693715</td>\n",
       "      <td>1.147115</td>\n",
       "    </tr>\n",
       "    <tr>\n",
       "      <th>이상하게</th>\n",
       "      <td>486</td>\n",
       "      <td>162</td>\n",
       "      <td>486</td>\n",
       "      <td>27540</td>\n",
       "      <td>121986</td>\n",
       "      <td>3644676</td>\n",
       "      <td>36.546600</td>\n",
       "      <td>37.108753</td>\n",
       "      <td>0.562153</td>\n",
       "    </tr>\n",
       "    <tr>\n",
       "      <th>후회</th>\n",
       "      <td>486</td>\n",
       "      <td>162</td>\n",
       "      <td>486</td>\n",
       "      <td>27540</td>\n",
       "      <td>121986</td>\n",
       "      <td>3644676</td>\n",
       "      <td>36.546600</td>\n",
       "      <td>37.108753</td>\n",
       "      <td>0.562153</td>\n",
       "    </tr>\n",
       "    <tr>\n",
       "      <th>파</th>\n",
       "      <td>648</td>\n",
       "      <td>162</td>\n",
       "      <td>486</td>\n",
       "      <td>27540</td>\n",
       "      <td>121986</td>\n",
       "      <td>3644676</td>\n",
       "      <td>36.131563</td>\n",
       "      <td>36.693715</td>\n",
       "      <td>0.562153</td>\n",
       "    </tr>\n",
       "    <tr>\n",
       "      <th>벌</th>\n",
       "      <td>648</td>\n",
       "      <td>162</td>\n",
       "      <td>648</td>\n",
       "      <td>27540</td>\n",
       "      <td>121986</td>\n",
       "      <td>3644676</td>\n",
       "      <td>36.546600</td>\n",
       "      <td>36.693715</td>\n",
       "      <td>0.147115</td>\n",
       "    </tr>\n",
       "  </tbody>\n",
       "</table>\n",
       "<p>2272 rows × 9 columns</p>\n",
       "</div>"
      ],
      "text/plain": [
       "        W1  W1W2P  W1W2N  neg_cnt  pos_cnt        N       MI_N       MI_P  \\\n",
       "다낭    4698   2592    162    27540   121986  3644676  31.688619  37.835734   \n",
       "본     2916   2430    162    27540   121986  3644676  32.376675  38.430681   \n",
       "재밌게   2754   2106    162    27540   121986  3644676  32.459137  38.306692   \n",
       "연말    1944   1620    162    27540   121986  3644676  32.961638  38.430681   \n",
       "이에요   2430   1620    162    27540   121986  3644676  32.639709  38.108753   \n",
       "...    ...    ...    ...      ...      ...      ...        ...        ...   \n",
       "직장     648    162    324    27540   121986  3644676  35.546600  36.693715   \n",
       "이상하게   486    162    486    27540   121986  3644676  36.546600  37.108753   \n",
       "후회     486    162    486    27540   121986  3644676  36.546600  37.108753   \n",
       "파      648    162    486    27540   121986  3644676  36.131563  36.693715   \n",
       "벌      648    162    648    27540   121986  3644676  36.546600  36.693715   \n",
       "\n",
       "         SO_MI  \n",
       "다낭    6.147115  \n",
       "본     6.054006  \n",
       "재밌게   5.847555  \n",
       "연말    5.469043  \n",
       "이에요   5.469043  \n",
       "...        ...  \n",
       "직장    1.147115  \n",
       "이상하게  0.562153  \n",
       "후회    0.562153  \n",
       "파     0.562153  \n",
       "벌     0.147115  \n",
       "\n",
       "[2272 rows x 9 columns]"
      ]
     },
     "execution_count": 28,
     "metadata": {},
     "output_type": "execute_result"
    }
   ],
   "source": [
    "k_n.sort_values(by=['SO_MI'],ascending=False)"
   ]
  },
  {
   "cell_type": "code",
   "execution_count": 29,
   "metadata": {},
   "outputs": [],
   "source": [
    "add_Dic = {0:[],1:[]}\n",
    "for i in k_n[k_n['SO_MI']>0].T.keys():\n",
    "    if i not in list(sent_dic[0]):\n",
    "        if len(i) > 1:\n",
    "            add_Dic[0].append(i)\n",
    "            add_Dic[1].append(1.0)\n",
    "for i in k_n[k_n['SO_MI']<0].T.keys():\n",
    "    if i not in list(sent_dic[0]):\n",
    "        add_Dic[0].append(i)\n",
    "        add_Dic[1].append(-1.0)"
   ]
  },
  {
   "cell_type": "code",
   "execution_count": 30,
   "metadata": {},
   "outputs": [],
   "source": [
    "add_Dic=pd.DataFrame(add_Dic)"
   ]
  },
  {
   "cell_type": "code",
   "execution_count": 31,
   "metadata": {},
   "outputs": [],
   "source": [
    "Sentiment=pd.merge(sent_dic,add_Dic,'outer')"
   ]
  },
  {
   "cell_type": "code",
   "execution_count": 32,
   "metadata": {},
   "outputs": [],
   "source": [
    "cnt = []\n",
    "for i in df_s['comment']:\n",
    "    count=0\n",
    "    for j in list(set(i)):\n",
    "        if len(Sentiment[Sentiment[0]==j])==1:\n",
    "            a = float(Sentiment[Sentiment[0]==j][1])\n",
    "            count += a\n",
    "    cnt.append(count)"
   ]
  },
  {
   "cell_type": "code",
   "execution_count": 33,
   "metadata": {},
   "outputs": [],
   "source": [
    "df['score']=cnt"
   ]
  },
  {
   "cell_type": "code",
   "execution_count": 34,
   "metadata": {},
   "outputs": [
    {
     "name": "stderr",
     "output_type": "stream",
     "text": [
      "C:\\Users\\4770pc2\\anaconda3\\lib\\site-packages\\ipykernel_launcher.py:3: RuntimeWarning: invalid value encountered in double_scalars\n",
      "  This is separate from the ipykernel package so we can avoid doing imports until\n"
     ]
    }
   ],
   "source": [
    "ratio=[]\n",
    "for i in range(len(df['score'])):\n",
    "    ratio.append(round(df['score'][i]/len(df_s['comment'][i]),2))"
   ]
  },
  {
   "cell_type": "code",
   "execution_count": 35,
   "metadata": {},
   "outputs": [],
   "source": [
    "df['cm_ratio']=ratio\n",
    "df=df.fillna(0)"
   ]
  },
  {
   "cell_type": "code",
   "execution_count": 36,
   "metadata": {},
   "outputs": [],
   "source": [
    "df.to_excel('sentiment_total_score_vlog.xlsx')"
   ]
  },
  {
   "cell_type": "code",
   "execution_count": 37,
   "metadata": {},
   "outputs": [],
   "source": [
    "ts=pd.read_excel('sentiment_total_score_vlog.xlsx')"
   ]
  },
  {
   "cell_type": "code",
   "execution_count": 38,
   "metadata": {
    "scrolled": true
   },
   "outputs": [
    {
     "data": {
      "text/html": [
       "<div>\n",
       "<style scoped>\n",
       "    .dataframe tbody tr th:only-of-type {\n",
       "        vertical-align: middle;\n",
       "    }\n",
       "\n",
       "    .dataframe tbody tr th {\n",
       "        vertical-align: top;\n",
       "    }\n",
       "\n",
       "    .dataframe thead th {\n",
       "        text-align: right;\n",
       "    }\n",
       "</style>\n",
       "<table border=\"1\" class=\"dataframe\">\n",
       "  <thead>\n",
       "    <tr style=\"text-align: right;\">\n",
       "      <th></th>\n",
       "      <th>Unnamed: 0</th>\n",
       "      <th>Unnamed: 0.1</th>\n",
       "      <th>youtube_id</th>\n",
       "      <th>comment</th>\n",
       "      <th>like_num</th>\n",
       "      <th>score</th>\n",
       "      <th>cm_ratio</th>\n",
       "    </tr>\n",
       "  </thead>\n",
       "  <tbody>\n",
       "    <tr>\n",
       "      <th>0</th>\n",
       "      <td>0</td>\n",
       "      <td>0</td>\n",
       "      <td>오프로OhPro</td>\n",
       "      <td>(★여러분 영상 중에 제가 근대를 샐러드에 포함해서 먹는 장면이 나오는데 근대는 생...</td>\n",
       "      <td>10</td>\n",
       "      <td>33</td>\n",
       "      <td>0.36</td>\n",
       "    </tr>\n",
       "    <tr>\n",
       "      <th>1</th>\n",
       "      <td>1</td>\n",
       "      <td>1</td>\n",
       "      <td>재횬</td>\n",
       "      <td>고민을 들어주세요\\n안녕하세요\\n전 학생입니다\\n전 학원에서 제 잘못땜에 사이가 틀...</td>\n",
       "      <td>3</td>\n",
       "      <td>43</td>\n",
       "      <td>0.33</td>\n",
       "    </tr>\n",
       "    <tr>\n",
       "      <th>2</th>\n",
       "      <td>2</td>\n",
       "      <td>2</td>\n",
       "      <td>GraceJeon</td>\n",
       "      <td>바른생활오프로님!\\n오프로님의 잡소리에 공감 많이 하다가 구독자가 되었는데...\\n...</td>\n",
       "      <td>2</td>\n",
       "      <td>40</td>\n",
       "      <td>0.60</td>\n",
       "    </tr>\n",
       "    <tr>\n",
       "      <th>3</th>\n",
       "      <td>3</td>\n",
       "      <td>3</td>\n",
       "      <td>보나</td>\n",
       "      <td>박스안 구독종이 정말 혼자 빵터져 웃었네요 🤭🤭🤭🤭\\n일상 브이로그 영상 넘 좋아요🤗🤭👍</td>\n",
       "      <td>3</td>\n",
       "      <td>8</td>\n",
       "      <td>0.57</td>\n",
       "    </tr>\n",
       "    <tr>\n",
       "      <th>4</th>\n",
       "      <td>4</td>\n",
       "      <td>4</td>\n",
       "      <td>MmM</td>\n",
       "      <td>와...자취하면서 뭔가를 해먹는다는게 대단👍</td>\n",
       "      <td>3</td>\n",
       "      <td>4</td>\n",
       "      <td>0.50</td>\n",
       "    </tr>\n",
       "  </tbody>\n",
       "</table>\n",
       "</div>"
      ],
      "text/plain": [
       "   Unnamed: 0  Unnamed: 0.1 youtube_id  \\\n",
       "0           0             0   오프로OhPro   \n",
       "1           1             1         재횬   \n",
       "2           2             2  GraceJeon   \n",
       "3           3             3         보나   \n",
       "4           4             4        MmM   \n",
       "\n",
       "                                             comment  like_num  score  \\\n",
       "0  (★여러분 영상 중에 제가 근대를 샐러드에 포함해서 먹는 장면이 나오는데 근대는 생...        10     33   \n",
       "1  고민을 들어주세요\\n안녕하세요\\n전 학생입니다\\n전 학원에서 제 잘못땜에 사이가 틀...         3     43   \n",
       "2  바른생활오프로님!\\n오프로님의 잡소리에 공감 많이 하다가 구독자가 되었는데...\\n...         2     40   \n",
       "3  박스안 구독종이 정말 혼자 빵터져 웃었네요 🤭🤭🤭🤭\\n일상 브이로그 영상 넘 좋아요🤗🤭👍         3      8   \n",
       "4                           와...자취하면서 뭔가를 해먹는다는게 대단👍         3      4   \n",
       "\n",
       "   cm_ratio  \n",
       "0      0.36  \n",
       "1      0.33  \n",
       "2      0.60  \n",
       "3      0.57  \n",
       "4      0.50  "
      ]
     },
     "execution_count": 38,
     "metadata": {},
     "output_type": "execute_result"
    }
   ],
   "source": [
    "ts.head()"
   ]
  },
  {
   "cell_type": "code",
   "execution_count": 39,
   "metadata": {},
   "outputs": [],
   "source": [
    "ts['like_num']=np.where(ts['like_num']==0,1,ts['like_num'])"
   ]
  },
  {
   "cell_type": "code",
   "execution_count": 40,
   "metadata": {},
   "outputs": [],
   "source": [
    "ts['like_score']=ts['like_num']*ts['score']"
   ]
  },
  {
   "cell_type": "code",
   "execution_count": 39,
   "metadata": {},
   "outputs": [],
   "source": [
    "ts['like_num']=np.where(ts['like_num']==0,1,ts['like_num'])"
   ]
  },
  {
   "cell_type": "code",
   "execution_count": 40,
   "metadata": {},
   "outputs": [],
   "source": [
    "ts['like_score']=ts['like_num']*ts['score']"
   ]
  },
  {
   "cell_type": "code",
   "execution_count": 41,
   "metadata": {
    "scrolled": true
   },
   "outputs": [
    {
     "data": {
      "text/html": [
       "<div>\n",
       "<style scoped>\n",
       "    .dataframe tbody tr th:only-of-type {\n",
       "        vertical-align: middle;\n",
       "    }\n",
       "\n",
       "    .dataframe tbody tr th {\n",
       "        vertical-align: top;\n",
       "    }\n",
       "\n",
       "    .dataframe thead th {\n",
       "        text-align: right;\n",
       "    }\n",
       "</style>\n",
       "<table border=\"1\" class=\"dataframe\">\n",
       "  <thead>\n",
       "    <tr style=\"text-align: right;\">\n",
       "      <th></th>\n",
       "      <th>Unnamed: 0</th>\n",
       "      <th>Unnamed: 0.1</th>\n",
       "      <th>youtube_id</th>\n",
       "      <th>comment</th>\n",
       "      <th>like_num</th>\n",
       "      <th>score</th>\n",
       "      <th>cm_ratio</th>\n",
       "      <th>like_score</th>\n",
       "    </tr>\n",
       "  </thead>\n",
       "  <tbody>\n",
       "    <tr>\n",
       "      <th>0</th>\n",
       "      <td>0</td>\n",
       "      <td>0</td>\n",
       "      <td>오프로OhPro</td>\n",
       "      <td>(★여러분 영상 중에 제가 근대를 샐러드에 포함해서 먹는 장면이 나오는데 근대는 생...</td>\n",
       "      <td>10</td>\n",
       "      <td>33</td>\n",
       "      <td>0.36</td>\n",
       "      <td>330</td>\n",
       "    </tr>\n",
       "    <tr>\n",
       "      <th>1</th>\n",
       "      <td>1</td>\n",
       "      <td>1</td>\n",
       "      <td>재횬</td>\n",
       "      <td>고민을 들어주세요\\n안녕하세요\\n전 학생입니다\\n전 학원에서 제 잘못땜에 사이가 틀...</td>\n",
       "      <td>3</td>\n",
       "      <td>43</td>\n",
       "      <td>0.33</td>\n",
       "      <td>129</td>\n",
       "    </tr>\n",
       "    <tr>\n",
       "      <th>2</th>\n",
       "      <td>2</td>\n",
       "      <td>2</td>\n",
       "      <td>GraceJeon</td>\n",
       "      <td>바른생활오프로님!\\n오프로님의 잡소리에 공감 많이 하다가 구독자가 되었는데...\\n...</td>\n",
       "      <td>2</td>\n",
       "      <td>40</td>\n",
       "      <td>0.60</td>\n",
       "      <td>80</td>\n",
       "    </tr>\n",
       "    <tr>\n",
       "      <th>3</th>\n",
       "      <td>3</td>\n",
       "      <td>3</td>\n",
       "      <td>보나</td>\n",
       "      <td>박스안 구독종이 정말 혼자 빵터져 웃었네요 🤭🤭🤭🤭\\n일상 브이로그 영상 넘 좋아요🤗🤭👍</td>\n",
       "      <td>3</td>\n",
       "      <td>8</td>\n",
       "      <td>0.57</td>\n",
       "      <td>24</td>\n",
       "    </tr>\n",
       "    <tr>\n",
       "      <th>4</th>\n",
       "      <td>4</td>\n",
       "      <td>4</td>\n",
       "      <td>MmM</td>\n",
       "      <td>와...자취하면서 뭔가를 해먹는다는게 대단👍</td>\n",
       "      <td>3</td>\n",
       "      <td>4</td>\n",
       "      <td>0.50</td>\n",
       "      <td>12</td>\n",
       "    </tr>\n",
       "  </tbody>\n",
       "</table>\n",
       "</div>"
      ],
      "text/plain": [
       "   Unnamed: 0  Unnamed: 0.1 youtube_id  \\\n",
       "0           0             0   오프로OhPro   \n",
       "1           1             1         재횬   \n",
       "2           2             2  GraceJeon   \n",
       "3           3             3         보나   \n",
       "4           4             4        MmM   \n",
       "\n",
       "                                             comment  like_num  score  \\\n",
       "0  (★여러분 영상 중에 제가 근대를 샐러드에 포함해서 먹는 장면이 나오는데 근대는 생...        10     33   \n",
       "1  고민을 들어주세요\\n안녕하세요\\n전 학생입니다\\n전 학원에서 제 잘못땜에 사이가 틀...         3     43   \n",
       "2  바른생활오프로님!\\n오프로님의 잡소리에 공감 많이 하다가 구독자가 되었는데...\\n...         2     40   \n",
       "3  박스안 구독종이 정말 혼자 빵터져 웃었네요 🤭🤭🤭🤭\\n일상 브이로그 영상 넘 좋아요🤗🤭👍         3      8   \n",
       "4                           와...자취하면서 뭔가를 해먹는다는게 대단👍         3      4   \n",
       "\n",
       "   cm_ratio  like_score  \n",
       "0      0.36         330  \n",
       "1      0.33         129  \n",
       "2      0.60          80  \n",
       "3      0.57          24  \n",
       "4      0.50          12  "
      ]
     },
     "execution_count": 41,
     "metadata": {},
     "output_type": "execute_result"
    }
   ],
   "source": [
    "ts.head()"
   ]
  },
  {
   "cell_type": "code",
   "execution_count": 43,
   "metadata": {},
   "outputs": [],
   "source": [
    "sent=sum(ts['like_score'])/len(ts)"
   ]
  },
  {
   "cell_type": "code",
   "execution_count": 54,
   "metadata": {},
   "outputs": [],
   "source": [
    "f=open(\"오프로_컨설팅.txt\", 'a')\n",
    "print(\"Vlog의 감성점수는\",sent,\"점입니다\",\"\\n\",file=f)\n",
    "f.close()"
   ]
  },
  {
   "cell_type": "markdown",
   "metadata": {},
   "source": [
    "## Talk"
   ]
  },
  {
   "cell_type": "code",
   "execution_count": 1,
   "metadata": {},
   "outputs": [],
   "source": [
    "import pandas as pd\n",
    "import os\n",
    "import glob\n",
    "import re"
   ]
  },
  {
   "cell_type": "code",
   "execution_count": 2,
   "metadata": {},
   "outputs": [],
   "source": [
    "df = []\n",
    "for i in range(1,70):\n",
    "    dfname = \"talk\" + str(i) + '.xlsx'\n",
    "    tempdf = pd.read_excel(dfname)\n",
    "    df.append(tempdf)"
   ]
  },
  {
   "cell_type": "code",
   "execution_count": 4,
   "metadata": {},
   "outputs": [],
   "source": [
    "df=pd.concat(df)\n",
    "df['like_num'] = [re.sub(r'[^0-9]','', x) for x in df['like_num']]\n",
    "df['like_num'] = df['like_num'].astype(int)"
   ]
  },
  {
   "cell_type": "code",
   "execution_count": 8,
   "metadata": {
    "scrolled": true
   },
   "outputs": [],
   "source": [
    "import pandas as pd\n",
    "import re\n",
    "import konlpy\n",
    "import matplotlib.pyplot as plt\n",
    "from matplotlib import font_manager, rc\n",
    "import numpy as np\n",
    "font_name = font_manager.FontProperties(fname=\"c:/Windows/Fonts/malgun.ttf\").get_name()\n",
    "rc('font', family=font_name)\n",
    "plt.rcParams['figure.figsize'] = [20, 20]\n",
    "plt.rcParams.update({'font.size': 22})"
   ]
  },
  {
   "cell_type": "code",
   "execution_count": 9,
   "metadata": {},
   "outputs": [],
   "source": [
    "sent_dic = pd.read_csv('SentiWord_Dict.txt',sep = '\\t',header=None)"
   ]
  },
  {
   "cell_type": "code",
   "execution_count": 10,
   "metadata": {},
   "outputs": [],
   "source": [
    "sent_dic.iloc[14850,0]='갈등'\n",
    "sent_dic.iloc[14850,1]=-1"
   ]
  },
  {
   "cell_type": "code",
   "execution_count": 11,
   "metadata": {},
   "outputs": [],
   "source": [
    "pos_dic = sent_dic[sent_dic[1]>0]\n",
    "neg_dic = sent_dic[sent_dic[1]<0]\n",
    "neu_dic = sent_dic[sent_dic[1]==0]"
   ]
  },
  {
   "cell_type": "code",
   "execution_count": 13,
   "metadata": {},
   "outputs": [],
   "source": [
    "df.reset_index(drop=True, inplace=True) #데이터프레임 리인덱싱"
   ]
  },
  {
   "cell_type": "code",
   "execution_count": 14,
   "metadata": {
    "scrolled": true
   },
   "outputs": [],
   "source": [
    "#텍스트 전처리\n",
    "df_s={'youtube_id':[],'comment':[]}\n",
    "for idx,i in enumerate(df['comment']):\n",
    "    text=[]\n",
    "    a = re.sub('[^가-힣0-9a-zA-Z\\\\s]', '',i)\n",
    "    for j in a.split():\n",
    "        text.append(j)\n",
    "    df_s['youtube_id'].append(df['youtube_id'][idx])\n",
    "    df_s['comment'].append(' '.join(text))"
   ]
  },
  {
   "cell_type": "code",
   "execution_count": 15,
   "metadata": {},
   "outputs": [],
   "source": [
    "okt = konlpy.tag.Okt()"
   ]
  },
  {
   "cell_type": "code",
   "execution_count": 16,
   "metadata": {},
   "outputs": [],
   "source": [
    "for i,v in enumerate(df_s['comment']):\n",
    "    df_s['comment'][i] = okt.pos(v)"
   ]
  },
  {
   "cell_type": "code",
   "execution_count": 17,
   "metadata": {},
   "outputs": [],
   "source": [
    "for idx,i in enumerate(df_s['comment']):\n",
    "    text=[]\n",
    "    for j in i:\n",
    "        if j[1] == 'Adjective' or j[1]=='Adverb' or j[1] == 'Determiner' or j[1] == 'Noun' or j[1] == 'Verb' or 'Unknown':\n",
    "            text.append(j[0])\n",
    "    df_s['comment'][idx] = text"
   ]
  },
  {
   "cell_type": "code",
   "execution_count": 18,
   "metadata": {},
   "outputs": [],
   "source": [
    "pos=[]\n",
    "neg=[]\n",
    "for i in df_s['comment']:\n",
    "    for j in i:\n",
    "        if len(sent_dic[sent_dic[0]==j])==1:\n",
    "            a = float(sent_dic[sent_dic[0]==j][1])\n",
    "            if a > 0:\n",
    "                pos.append(j)\n",
    "            elif a < 0:\n",
    "                neg.append(j)\n",
    "    pos = list(set(pos))\n",
    "    neg = list(set(neg))"
   ]
  },
  {
   "cell_type": "code",
   "execution_count": 19,
   "metadata": {},
   "outputs": [],
   "source": [
    "k={}\n",
    "for i in df_s['comment']:\n",
    "    for j in i:\n",
    "        k[j] = {'W1':0,'W1W2P':0,'W1W2N':0}"
   ]
  },
  {
   "cell_type": "code",
   "execution_count": 20,
   "metadata": {},
   "outputs": [],
   "source": [
    "for i in pos:\n",
    "    for j in df_s['comment']:\n",
    "        for p in j:\n",
    "            k[p]['W1']+=1\n",
    "            for po in pos:\n",
    "                if po in j:\n",
    "                    k[p]['W1W2P']+=1\n",
    "                    break\n",
    "            for ne in neg :\n",
    "                if ne in j:\n",
    "                    k[p]['W1W2N']+=1\n",
    "                    break"
   ]
  },
  {
   "cell_type": "code",
   "execution_count": 21,
   "metadata": {},
   "outputs": [],
   "source": [
    "k_t=pd.DataFrame(k)"
   ]
  },
  {
   "cell_type": "code",
   "execution_count": 22,
   "metadata": {},
   "outputs": [],
   "source": [
    "pos_cnt=sum(k_t.loc[::,pos].iloc[0,::])\n",
    "neg_cnt=sum(k_t.loc[::,neg].iloc[0,::])\n",
    "N=sum(k_t.iloc[0,::])"
   ]
  },
  {
   "cell_type": "code",
   "execution_count": 23,
   "metadata": {},
   "outputs": [],
   "source": [
    "k_f=k_t.T"
   ]
  },
  {
   "cell_type": "code",
   "execution_count": 24,
   "metadata": {},
   "outputs": [],
   "source": [
    "k_f['neg_cnt']=neg_cnt\n",
    "k_f['pos_cnt']=pos_cnt\n",
    "k_f['N']=N"
   ]
  },
  {
   "cell_type": "code",
   "execution_count": 25,
   "metadata": {},
   "outputs": [
    {
     "name": "stderr",
     "output_type": "stream",
     "text": [
      "C:\\Users\\4770pc2\\anaconda3\\lib\\site-packages\\pandas\\core\\series.py:679: RuntimeWarning: divide by zero encountered in log2\n",
      "  result = getattr(ufunc, method)(*inputs, **kwargs)\n"
     ]
    }
   ],
   "source": [
    "k_f['MI_N']=np.log2(k_f['W1W2N']*k_f['N']/k_f['W1']*k_f['neg_cnt'])\n",
    "k_f['MI_P']=np.log2(k_f['W1W2P']*k_f['N']/k_f['W1']*k_f['pos_cnt'])"
   ]
  },
  {
   "cell_type": "code",
   "execution_count": 26,
   "metadata": {},
   "outputs": [],
   "source": [
    "k_f['SO_MI']=k_f['MI_P'] - k_f['MI_N']"
   ]
  },
  {
   "cell_type": "code",
   "execution_count": 27,
   "metadata": {},
   "outputs": [],
   "source": [
    "k_n=k_f.replace([np.inf, -np.inf], np.nan).dropna(axis=0)"
   ]
  },
  {
   "cell_type": "code",
   "execution_count": 28,
   "metadata": {},
   "outputs": [
    {
     "data": {
      "text/html": [
       "<div>\n",
       "<style scoped>\n",
       "    .dataframe tbody tr th:only-of-type {\n",
       "        vertical-align: middle;\n",
       "    }\n",
       "\n",
       "    .dataframe tbody tr th {\n",
       "        vertical-align: top;\n",
       "    }\n",
       "\n",
       "    .dataframe thead th {\n",
       "        text-align: right;\n",
       "    }\n",
       "</style>\n",
       "<table border=\"1\" class=\"dataframe\">\n",
       "  <thead>\n",
       "    <tr style=\"text-align: right;\">\n",
       "      <th></th>\n",
       "      <th>W1</th>\n",
       "      <th>W1W2P</th>\n",
       "      <th>W1W2N</th>\n",
       "      <th>neg_cnt</th>\n",
       "      <th>pos_cnt</th>\n",
       "      <th>N</th>\n",
       "      <th>MI_N</th>\n",
       "      <th>MI_P</th>\n",
       "      <th>SO_MI</th>\n",
       "    </tr>\n",
       "  </thead>\n",
       "  <tbody>\n",
       "    <tr>\n",
       "      <th>주행</th>\n",
       "      <td>5696</td>\n",
       "      <td>5696</td>\n",
       "      <td>356</td>\n",
       "      <td>713780</td>\n",
       "      <td>1605916</td>\n",
       "      <td>51577280</td>\n",
       "      <td>41.065352</td>\n",
       "      <td>46.235197</td>\n",
       "      <td>5.169845</td>\n",
       "    </tr>\n",
       "    <tr>\n",
       "      <th>천</th>\n",
       "      <td>3916</td>\n",
       "      <td>3560</td>\n",
       "      <td>356</td>\n",
       "      <td>713780</td>\n",
       "      <td>1605916</td>\n",
       "      <td>51577280</td>\n",
       "      <td>41.605921</td>\n",
       "      <td>46.097694</td>\n",
       "      <td>4.491773</td>\n",
       "    </tr>\n",
       "    <tr>\n",
       "      <th>이십</th>\n",
       "      <td>3560</td>\n",
       "      <td>3560</td>\n",
       "      <td>356</td>\n",
       "      <td>713780</td>\n",
       "      <td>1605916</td>\n",
       "      <td>51577280</td>\n",
       "      <td>41.743424</td>\n",
       "      <td>46.235197</td>\n",
       "      <td>4.491773</td>\n",
       "    </tr>\n",
       "    <tr>\n",
       "      <th>고마워요</th>\n",
       "      <td>5696</td>\n",
       "      <td>3560</td>\n",
       "      <td>356</td>\n",
       "      <td>713780</td>\n",
       "      <td>1605916</td>\n",
       "      <td>51577280</td>\n",
       "      <td>41.065352</td>\n",
       "      <td>45.557125</td>\n",
       "      <td>4.491773</td>\n",
       "    </tr>\n",
       "    <tr>\n",
       "      <th>해보고</th>\n",
       "      <td>7476</td>\n",
       "      <td>6408</td>\n",
       "      <td>712</td>\n",
       "      <td>713780</td>\n",
       "      <td>1605916</td>\n",
       "      <td>51577280</td>\n",
       "      <td>41.673035</td>\n",
       "      <td>46.012805</td>\n",
       "      <td>4.339770</td>\n",
       "    </tr>\n",
       "    <tr>\n",
       "      <th>...</th>\n",
       "      <td>...</td>\n",
       "      <td>...</td>\n",
       "      <td>...</td>\n",
       "      <td>...</td>\n",
       "      <td>...</td>\n",
       "      <td>...</td>\n",
       "      <td>...</td>\n",
       "      <td>...</td>\n",
       "      <td>...</td>\n",
       "    </tr>\n",
       "    <tr>\n",
       "      <th>중독</th>\n",
       "      <td>3204</td>\n",
       "      <td>712</td>\n",
       "      <td>3204</td>\n",
       "      <td>713780</td>\n",
       "      <td>1605916</td>\n",
       "      <td>51577280</td>\n",
       "      <td>45.065352</td>\n",
       "      <td>44.065272</td>\n",
       "      <td>-1.000080</td>\n",
       "    </tr>\n",
       "    <tr>\n",
       "      <th>철</th>\n",
       "      <td>1780</td>\n",
       "      <td>356</td>\n",
       "      <td>1780</td>\n",
       "      <td>713780</td>\n",
       "      <td>1605916</td>\n",
       "      <td>51577280</td>\n",
       "      <td>45.065352</td>\n",
       "      <td>43.913269</td>\n",
       "      <td>-1.152083</td>\n",
       "    </tr>\n",
       "    <tr>\n",
       "      <th>코인</th>\n",
       "      <td>2492</td>\n",
       "      <td>356</td>\n",
       "      <td>1780</td>\n",
       "      <td>713780</td>\n",
       "      <td>1605916</td>\n",
       "      <td>51577280</td>\n",
       "      <td>44.579925</td>\n",
       "      <td>43.427842</td>\n",
       "      <td>-1.152083</td>\n",
       "    </tr>\n",
       "    <tr>\n",
       "      <th>뜨기</th>\n",
       "      <td>2136</td>\n",
       "      <td>356</td>\n",
       "      <td>2136</td>\n",
       "      <td>713780</td>\n",
       "      <td>1605916</td>\n",
       "      <td>51577280</td>\n",
       "      <td>45.065352</td>\n",
       "      <td>43.650235</td>\n",
       "      <td>-1.415117</td>\n",
       "    </tr>\n",
       "    <tr>\n",
       "      <th>스포</th>\n",
       "      <td>2848</td>\n",
       "      <td>356</td>\n",
       "      <td>2848</td>\n",
       "      <td>713780</td>\n",
       "      <td>1605916</td>\n",
       "      <td>51577280</td>\n",
       "      <td>45.065352</td>\n",
       "      <td>43.235197</td>\n",
       "      <td>-1.830155</td>\n",
       "    </tr>\n",
       "  </tbody>\n",
       "</table>\n",
       "<p>10968 rows × 9 columns</p>\n",
       "</div>"
      ],
      "text/plain": [
       "        W1  W1W2P  W1W2N  neg_cnt  pos_cnt         N       MI_N       MI_P  \\\n",
       "주행    5696   5696    356   713780  1605916  51577280  41.065352  46.235197   \n",
       "천     3916   3560    356   713780  1605916  51577280  41.605921  46.097694   \n",
       "이십    3560   3560    356   713780  1605916  51577280  41.743424  46.235197   \n",
       "고마워요  5696   3560    356   713780  1605916  51577280  41.065352  45.557125   \n",
       "해보고   7476   6408    712   713780  1605916  51577280  41.673035  46.012805   \n",
       "...    ...    ...    ...      ...      ...       ...        ...        ...   \n",
       "중독    3204    712   3204   713780  1605916  51577280  45.065352  44.065272   \n",
       "철     1780    356   1780   713780  1605916  51577280  45.065352  43.913269   \n",
       "코인    2492    356   1780   713780  1605916  51577280  44.579925  43.427842   \n",
       "뜨기    2136    356   2136   713780  1605916  51577280  45.065352  43.650235   \n",
       "스포    2848    356   2848   713780  1605916  51577280  45.065352  43.235197   \n",
       "\n",
       "         SO_MI  \n",
       "주행    5.169845  \n",
       "천     4.491773  \n",
       "이십    4.491773  \n",
       "고마워요  4.491773  \n",
       "해보고   4.339770  \n",
       "...        ...  \n",
       "중독   -1.000080  \n",
       "철    -1.152083  \n",
       "코인   -1.152083  \n",
       "뜨기   -1.415117  \n",
       "스포   -1.830155  \n",
       "\n",
       "[10968 rows x 9 columns]"
      ]
     },
     "execution_count": 28,
     "metadata": {},
     "output_type": "execute_result"
    }
   ],
   "source": [
    "k_n.sort_values(by=['SO_MI'],ascending=False)"
   ]
  },
  {
   "cell_type": "code",
   "execution_count": 29,
   "metadata": {},
   "outputs": [],
   "source": [
    "add_Dic = {0:[],1:[]}\n",
    "for i in k_n[k_n['SO_MI']>0].T.keys():\n",
    "    if i not in list(sent_dic[0]):\n",
    "        if len(i) > 1:\n",
    "            add_Dic[0].append(i)\n",
    "            add_Dic[1].append(1.0)\n",
    "for i in k_n[k_n['SO_MI']<0].T.keys():\n",
    "    if i not in list(sent_dic[0]):\n",
    "        add_Dic[0].append(i)\n",
    "        add_Dic[1].append(-1.0)"
   ]
  },
  {
   "cell_type": "code",
   "execution_count": 30,
   "metadata": {},
   "outputs": [],
   "source": [
    "add_Dic=pd.DataFrame(add_Dic)"
   ]
  },
  {
   "cell_type": "code",
   "execution_count": 31,
   "metadata": {},
   "outputs": [],
   "source": [
    "Sentiment=pd.merge(sent_dic,add_Dic,'outer')"
   ]
  },
  {
   "cell_type": "code",
   "execution_count": 32,
   "metadata": {},
   "outputs": [],
   "source": [
    "cnt = []\n",
    "for i in df_s['comment']:\n",
    "    count=0\n",
    "    for j in list(set(i)):\n",
    "        if len(Sentiment[Sentiment[0]==j])==1:\n",
    "            a = float(Sentiment[Sentiment[0]==j][1])\n",
    "            count += a\n",
    "    cnt.append(count)"
   ]
  },
  {
   "cell_type": "code",
   "execution_count": 33,
   "metadata": {},
   "outputs": [],
   "source": [
    "df['score']=cnt"
   ]
  },
  {
   "cell_type": "code",
   "execution_count": 34,
   "metadata": {},
   "outputs": [
    {
     "name": "stderr",
     "output_type": "stream",
     "text": [
      "C:\\Users\\4770pc2\\anaconda3\\lib\\site-packages\\ipykernel_launcher.py:3: RuntimeWarning: invalid value encountered in double_scalars\n",
      "  This is separate from the ipykernel package so we can avoid doing imports until\n"
     ]
    }
   ],
   "source": [
    "ratio=[]\n",
    "for i in range(len(df['score'])):\n",
    "    ratio.append(round(df['score'][i]/len(df_s['comment'][i]),2))"
   ]
  },
  {
   "cell_type": "code",
   "execution_count": 35,
   "metadata": {},
   "outputs": [],
   "source": [
    "df['cm_ratio']=ratio\n",
    "df=df.fillna(0)"
   ]
  },
  {
   "cell_type": "code",
   "execution_count": 36,
   "metadata": {},
   "outputs": [],
   "source": [
    "df.to_excel('sentiment_total_score_talk.xlsx')"
   ]
  },
  {
   "cell_type": "code",
   "execution_count": 37,
   "metadata": {},
   "outputs": [],
   "source": [
    "ts=pd.read_excel('sentiment_total_score_talk.xlsx')"
   ]
  },
  {
   "cell_type": "code",
   "execution_count": 38,
   "metadata": {
    "scrolled": true
   },
   "outputs": [
    {
     "data": {
      "text/html": [
       "<div>\n",
       "<style scoped>\n",
       "    .dataframe tbody tr th:only-of-type {\n",
       "        vertical-align: middle;\n",
       "    }\n",
       "\n",
       "    .dataframe tbody tr th {\n",
       "        vertical-align: top;\n",
       "    }\n",
       "\n",
       "    .dataframe thead th {\n",
       "        text-align: right;\n",
       "    }\n",
       "</style>\n",
       "<table border=\"1\" class=\"dataframe\">\n",
       "  <thead>\n",
       "    <tr style=\"text-align: right;\">\n",
       "      <th></th>\n",
       "      <th>Unnamed: 0</th>\n",
       "      <th>Unnamed: 0.1</th>\n",
       "      <th>youtube_id</th>\n",
       "      <th>comment</th>\n",
       "      <th>like_num</th>\n",
       "      <th>score</th>\n",
       "      <th>cm_ratio</th>\n",
       "    </tr>\n",
       "  </thead>\n",
       "  <tbody>\n",
       "    <tr>\n",
       "      <th>0</th>\n",
       "      <td>0</td>\n",
       "      <td>0</td>\n",
       "      <td>오프로OhPro</td>\n",
       "      <td>여러분~~업로드가 너무 늦었죠!? 이번 주에 일들이 좀 겹쳐서 늦었어요 흑흑.. 6...</td>\n",
       "      <td>13</td>\n",
       "      <td>43</td>\n",
       "      <td>0.46</td>\n",
       "    </tr>\n",
       "    <tr>\n",
       "      <th>1</th>\n",
       "      <td>1</td>\n",
       "      <td>1</td>\n",
       "      <td>지훈유</td>\n",
       "      <td>저도 제일 상처 받는 말을 받았을 때는 화가 많이 나죠. 누나처럼 저도 선한 방향으...</td>\n",
       "      <td>4</td>\n",
       "      <td>7</td>\n",
       "      <td>0.32</td>\n",
       "    </tr>\n",
       "    <tr>\n",
       "      <th>2</th>\n",
       "      <td>2</td>\n",
       "      <td>2</td>\n",
       "      <td>시현송</td>\n",
       "      <td>현명하고 지혜로운 그녀 . 동생이지만 언니라고 부르고 싶다♡</td>\n",
       "      <td>3</td>\n",
       "      <td>9</td>\n",
       "      <td>0.90</td>\n",
       "    </tr>\n",
       "    <tr>\n",
       "      <th>3</th>\n",
       "      <td>3</td>\n",
       "      <td>3</td>\n",
       "      <td>안영이</td>\n",
       "      <td>상처는 인정욕구때문에 더 생기는 거 같아요.\\n\\n기대가 크면 실망이 크지요.\\n\\...</td>\n",
       "      <td>3</td>\n",
       "      <td>17</td>\n",
       "      <td>0.40</td>\n",
       "    </tr>\n",
       "    <tr>\n",
       "      <th>4</th>\n",
       "      <td>4</td>\n",
       "      <td>4</td>\n",
       "      <td>정시연</td>\n",
       "      <td>와~공과 컵 비유ᆢ언니는 진짜 찐이시다ᆢ^^\\n어쩌면 상처받는 사람보다 상처주는 사...</td>\n",
       "      <td>3</td>\n",
       "      <td>28</td>\n",
       "      <td>0.51</td>\n",
       "    </tr>\n",
       "  </tbody>\n",
       "</table>\n",
       "</div>"
      ],
      "text/plain": [
       "   Unnamed: 0  Unnamed: 0.1 youtube_id  \\\n",
       "0           0             0   오프로OhPro   \n",
       "1           1             1        지훈유   \n",
       "2           2             2        시현송   \n",
       "3           3             3        안영이   \n",
       "4           4             4        정시연   \n",
       "\n",
       "                                             comment  like_num  score  \\\n",
       "0  여러분~~업로드가 너무 늦었죠!? 이번 주에 일들이 좀 겹쳐서 늦었어요 흑흑.. 6...        13     43   \n",
       "1  저도 제일 상처 받는 말을 받았을 때는 화가 많이 나죠. 누나처럼 저도 선한 방향으...         4      7   \n",
       "2                  현명하고 지혜로운 그녀 . 동생이지만 언니라고 부르고 싶다♡         3      9   \n",
       "3  상처는 인정욕구때문에 더 생기는 거 같아요.\\n\\n기대가 크면 실망이 크지요.\\n\\...         3     17   \n",
       "4  와~공과 컵 비유ᆢ언니는 진짜 찐이시다ᆢ^^\\n어쩌면 상처받는 사람보다 상처주는 사...         3     28   \n",
       "\n",
       "   cm_ratio  \n",
       "0      0.46  \n",
       "1      0.32  \n",
       "2      0.90  \n",
       "3      0.40  \n",
       "4      0.51  "
      ]
     },
     "execution_count": 38,
     "metadata": {},
     "output_type": "execute_result"
    }
   ],
   "source": [
    "ts.head()"
   ]
  },
  {
   "cell_type": "code",
   "execution_count": 39,
   "metadata": {},
   "outputs": [],
   "source": [
    "ts['like_num']=np.where(ts['like_num']==0,1,ts['like_num'])"
   ]
  },
  {
   "cell_type": "code",
   "execution_count": 40,
   "metadata": {},
   "outputs": [],
   "source": [
    "ts['like_score']=ts['like_num']*ts['score']"
   ]
  },
  {
   "cell_type": "code",
   "execution_count": 41,
   "metadata": {
    "scrolled": true
   },
   "outputs": [
    {
     "data": {
      "text/html": [
       "<div>\n",
       "<style scoped>\n",
       "    .dataframe tbody tr th:only-of-type {\n",
       "        vertical-align: middle;\n",
       "    }\n",
       "\n",
       "    .dataframe tbody tr th {\n",
       "        vertical-align: top;\n",
       "    }\n",
       "\n",
       "    .dataframe thead th {\n",
       "        text-align: right;\n",
       "    }\n",
       "</style>\n",
       "<table border=\"1\" class=\"dataframe\">\n",
       "  <thead>\n",
       "    <tr style=\"text-align: right;\">\n",
       "      <th></th>\n",
       "      <th>Unnamed: 0</th>\n",
       "      <th>Unnamed: 0.1</th>\n",
       "      <th>youtube_id</th>\n",
       "      <th>comment</th>\n",
       "      <th>like_num</th>\n",
       "      <th>score</th>\n",
       "      <th>cm_ratio</th>\n",
       "      <th>like_score</th>\n",
       "    </tr>\n",
       "  </thead>\n",
       "  <tbody>\n",
       "    <tr>\n",
       "      <th>0</th>\n",
       "      <td>0</td>\n",
       "      <td>0</td>\n",
       "      <td>오프로OhPro</td>\n",
       "      <td>여러분~~업로드가 너무 늦었죠!? 이번 주에 일들이 좀 겹쳐서 늦었어요 흑흑.. 6...</td>\n",
       "      <td>13</td>\n",
       "      <td>43</td>\n",
       "      <td>0.46</td>\n",
       "      <td>559</td>\n",
       "    </tr>\n",
       "    <tr>\n",
       "      <th>1</th>\n",
       "      <td>1</td>\n",
       "      <td>1</td>\n",
       "      <td>지훈유</td>\n",
       "      <td>저도 제일 상처 받는 말을 받았을 때는 화가 많이 나죠. 누나처럼 저도 선한 방향으...</td>\n",
       "      <td>4</td>\n",
       "      <td>7</td>\n",
       "      <td>0.32</td>\n",
       "      <td>28</td>\n",
       "    </tr>\n",
       "    <tr>\n",
       "      <th>2</th>\n",
       "      <td>2</td>\n",
       "      <td>2</td>\n",
       "      <td>시현송</td>\n",
       "      <td>현명하고 지혜로운 그녀 . 동생이지만 언니라고 부르고 싶다♡</td>\n",
       "      <td>3</td>\n",
       "      <td>9</td>\n",
       "      <td>0.90</td>\n",
       "      <td>27</td>\n",
       "    </tr>\n",
       "    <tr>\n",
       "      <th>3</th>\n",
       "      <td>3</td>\n",
       "      <td>3</td>\n",
       "      <td>안영이</td>\n",
       "      <td>상처는 인정욕구때문에 더 생기는 거 같아요.\\n\\n기대가 크면 실망이 크지요.\\n\\...</td>\n",
       "      <td>3</td>\n",
       "      <td>17</td>\n",
       "      <td>0.40</td>\n",
       "      <td>51</td>\n",
       "    </tr>\n",
       "    <tr>\n",
       "      <th>4</th>\n",
       "      <td>4</td>\n",
       "      <td>4</td>\n",
       "      <td>정시연</td>\n",
       "      <td>와~공과 컵 비유ᆢ언니는 진짜 찐이시다ᆢ^^\\n어쩌면 상처받는 사람보다 상처주는 사...</td>\n",
       "      <td>3</td>\n",
       "      <td>28</td>\n",
       "      <td>0.51</td>\n",
       "      <td>84</td>\n",
       "    </tr>\n",
       "  </tbody>\n",
       "</table>\n",
       "</div>"
      ],
      "text/plain": [
       "   Unnamed: 0  Unnamed: 0.1 youtube_id  \\\n",
       "0           0             0   오프로OhPro   \n",
       "1           1             1        지훈유   \n",
       "2           2             2        시현송   \n",
       "3           3             3        안영이   \n",
       "4           4             4        정시연   \n",
       "\n",
       "                                             comment  like_num  score  \\\n",
       "0  여러분~~업로드가 너무 늦었죠!? 이번 주에 일들이 좀 겹쳐서 늦었어요 흑흑.. 6...        13     43   \n",
       "1  저도 제일 상처 받는 말을 받았을 때는 화가 많이 나죠. 누나처럼 저도 선한 방향으...         4      7   \n",
       "2                  현명하고 지혜로운 그녀 . 동생이지만 언니라고 부르고 싶다♡         3      9   \n",
       "3  상처는 인정욕구때문에 더 생기는 거 같아요.\\n\\n기대가 크면 실망이 크지요.\\n\\...         3     17   \n",
       "4  와~공과 컵 비유ᆢ언니는 진짜 찐이시다ᆢ^^\\n어쩌면 상처받는 사람보다 상처주는 사...         3     28   \n",
       "\n",
       "   cm_ratio  like_score  \n",
       "0      0.46         559  \n",
       "1      0.32          28  \n",
       "2      0.90          27  \n",
       "3      0.40          51  \n",
       "4      0.51          84  "
      ]
     },
     "execution_count": 41,
     "metadata": {},
     "output_type": "execute_result"
    }
   ],
   "source": [
    "ts.head()"
   ]
  },
  {
   "cell_type": "code",
   "execution_count": 43,
   "metadata": {},
   "outputs": [],
   "source": [
    "sent=sum(ts['like_score'])/len(ts)"
   ]
  },
  {
   "cell_type": "code",
   "execution_count": 45,
   "metadata": {},
   "outputs": [],
   "source": [
    "f=open(\"오프로_컨설팅.txt\", 'a')\n",
    "print(\"talk의 감성점수는\",sent,\"점입니다\",\"\\n\",file=f)\n",
    "f.close()"
   ]
  },
  {
   "cell_type": "markdown",
   "metadata": {},
   "source": [
    "# Job"
   ]
  },
  {
   "cell_type": "code",
   "execution_count": 1,
   "metadata": {},
   "outputs": [],
   "source": [
    "import pandas as pd\n",
    "import os\n",
    "import glob\n",
    "import re"
   ]
  },
  {
   "cell_type": "code",
   "execution_count": 2,
   "metadata": {},
   "outputs": [],
   "source": [
    "df = []\n",
    "for i in range(1,20):\n",
    "    dfname = \"job\" + str(i) + '.xlsx'\n",
    "    tempdf = pd.read_excel(dfname)\n",
    "    df.append(tempdf)"
   ]
  },
  {
   "cell_type": "code",
   "execution_count": 4,
   "metadata": {},
   "outputs": [],
   "source": [
    "df=pd.concat(df)"
   ]
  },
  {
   "cell_type": "code",
   "execution_count": 5,
   "metadata": {
    "scrolled": true
   },
   "outputs": [
    {
     "data": {
      "text/html": [
       "<div>\n",
       "<style scoped>\n",
       "    .dataframe tbody tr th:only-of-type {\n",
       "        vertical-align: middle;\n",
       "    }\n",
       "\n",
       "    .dataframe tbody tr th {\n",
       "        vertical-align: top;\n",
       "    }\n",
       "\n",
       "    .dataframe thead th {\n",
       "        text-align: right;\n",
       "    }\n",
       "</style>\n",
       "<table border=\"1\" class=\"dataframe\">\n",
       "  <thead>\n",
       "    <tr style=\"text-align: right;\">\n",
       "      <th></th>\n",
       "      <th>Unnamed: 0</th>\n",
       "      <th>youtube_id</th>\n",
       "      <th>comment</th>\n",
       "      <th>like_num</th>\n",
       "    </tr>\n",
       "  </thead>\n",
       "  <tbody>\n",
       "    <tr>\n",
       "      <th>0</th>\n",
       "      <td>0</td>\n",
       "      <td>오프로OhPro</td>\n",
       "      <td>★Job소리토크 시리즈는 더보기란이나 'JOB소리 Talk' 재생목록을 통해 보실 ...</td>\n",
       "      <td>19개</td>\n",
       "    </tr>\n",
       "    <tr>\n",
       "      <th>1</th>\n",
       "      <td>1</td>\n",
       "      <td>김유경</td>\n",
       "      <td>스펙 아무것도 없이 4학년 시작하는 시점이라 너무 착잡했는데ㅠㅠ 이 영상이 추천에 ...</td>\n",
       "      <td>33개</td>\n",
       "    </tr>\n",
       "    <tr>\n",
       "      <th>2</th>\n",
       "      <td>2</td>\n",
       "      <td>신영웅</td>\n",
       "      <td>말은 겸손한척 하시지만 공부머리로 커버하시는 스탈인듯 중요한건 노력이든 천성이든 기...</td>\n",
       "      <td>2개</td>\n",
       "    </tr>\n",
       "    <tr>\n",
       "      <th>3</th>\n",
       "      <td>3</td>\n",
       "      <td>sarang87</td>\n",
       "      <td>기본적으로 상위층이시네요. 일단 학교도 좋으시고 하고. 빡쎄게 한다고 다 되는 머리...</td>\n",
       "      <td>33개</td>\n",
       "    </tr>\n",
       "    <tr>\n",
       "      <th>4</th>\n",
       "      <td>4</td>\n",
       "      <td>오프로OhPro</td>\n",
       "      <td>저렇게 열심히 살았는데 몇 년 후 유튜브 쭈구리가 되었다..\\nㅋㅋㅋㅋㅋㅋㅋㅋㅋㅋㅋ...</td>\n",
       "      <td>68개</td>\n",
       "    </tr>\n",
       "  </tbody>\n",
       "</table>\n",
       "</div>"
      ],
      "text/plain": [
       "   Unnamed: 0 youtube_id                                            comment  \\\n",
       "0           0   오프로OhPro  ★Job소리토크 시리즈는 더보기란이나 'JOB소리 Talk' 재생목록을 통해 보실 ...   \n",
       "1           1        김유경  스펙 아무것도 없이 4학년 시작하는 시점이라 너무 착잡했는데ㅠㅠ 이 영상이 추천에 ...   \n",
       "2           2        신영웅  말은 겸손한척 하시지만 공부머리로 커버하시는 스탈인듯 중요한건 노력이든 천성이든 기...   \n",
       "3           3   sarang87  기본적으로 상위층이시네요. 일단 학교도 좋으시고 하고. 빡쎄게 한다고 다 되는 머리...   \n",
       "4           4   오프로OhPro  저렇게 열심히 살았는데 몇 년 후 유튜브 쭈구리가 되었다..\\nㅋㅋㅋㅋㅋㅋㅋㅋㅋㅋㅋ...   \n",
       "\n",
       "  like_num  \n",
       "0      19개  \n",
       "1      33개  \n",
       "2       2개  \n",
       "3      33개  \n",
       "4      68개  "
      ]
     },
     "execution_count": 5,
     "metadata": {},
     "output_type": "execute_result"
    }
   ],
   "source": [
    "df.head()"
   ]
  },
  {
   "cell_type": "code",
   "execution_count": 6,
   "metadata": {},
   "outputs": [],
   "source": [
    "df['like_num'] = [re.sub(r'[^0-9]','', x) for x in df['like_num']]\n",
    "df['like_num'] = df['like_num'].astype(int)"
   ]
  },
  {
   "cell_type": "code",
   "execution_count": 7,
   "metadata": {
    "scrolled": true
   },
   "outputs": [
    {
     "data": {
      "text/html": [
       "<div>\n",
       "<style scoped>\n",
       "    .dataframe tbody tr th:only-of-type {\n",
       "        vertical-align: middle;\n",
       "    }\n",
       "\n",
       "    .dataframe tbody tr th {\n",
       "        vertical-align: top;\n",
       "    }\n",
       "\n",
       "    .dataframe thead th {\n",
       "        text-align: right;\n",
       "    }\n",
       "</style>\n",
       "<table border=\"1\" class=\"dataframe\">\n",
       "  <thead>\n",
       "    <tr style=\"text-align: right;\">\n",
       "      <th></th>\n",
       "      <th>Unnamed: 0</th>\n",
       "      <th>youtube_id</th>\n",
       "      <th>comment</th>\n",
       "      <th>like_num</th>\n",
       "    </tr>\n",
       "  </thead>\n",
       "  <tbody>\n",
       "    <tr>\n",
       "      <th>0</th>\n",
       "      <td>0</td>\n",
       "      <td>오프로OhPro</td>\n",
       "      <td>★Job소리토크 시리즈는 더보기란이나 'JOB소리 Talk' 재생목록을 통해 보실 ...</td>\n",
       "      <td>19</td>\n",
       "    </tr>\n",
       "    <tr>\n",
       "      <th>1</th>\n",
       "      <td>1</td>\n",
       "      <td>김유경</td>\n",
       "      <td>스펙 아무것도 없이 4학년 시작하는 시점이라 너무 착잡했는데ㅠㅠ 이 영상이 추천에 ...</td>\n",
       "      <td>33</td>\n",
       "    </tr>\n",
       "    <tr>\n",
       "      <th>2</th>\n",
       "      <td>2</td>\n",
       "      <td>신영웅</td>\n",
       "      <td>말은 겸손한척 하시지만 공부머리로 커버하시는 스탈인듯 중요한건 노력이든 천성이든 기...</td>\n",
       "      <td>2</td>\n",
       "    </tr>\n",
       "    <tr>\n",
       "      <th>3</th>\n",
       "      <td>3</td>\n",
       "      <td>sarang87</td>\n",
       "      <td>기본적으로 상위층이시네요. 일단 학교도 좋으시고 하고. 빡쎄게 한다고 다 되는 머리...</td>\n",
       "      <td>33</td>\n",
       "    </tr>\n",
       "    <tr>\n",
       "      <th>4</th>\n",
       "      <td>4</td>\n",
       "      <td>오프로OhPro</td>\n",
       "      <td>저렇게 열심히 살았는데 몇 년 후 유튜브 쭈구리가 되었다..\\nㅋㅋㅋㅋㅋㅋㅋㅋㅋㅋㅋ...</td>\n",
       "      <td>68</td>\n",
       "    </tr>\n",
       "  </tbody>\n",
       "</table>\n",
       "</div>"
      ],
      "text/plain": [
       "   Unnamed: 0 youtube_id                                            comment  \\\n",
       "0           0   오프로OhPro  ★Job소리토크 시리즈는 더보기란이나 'JOB소리 Talk' 재생목록을 통해 보실 ...   \n",
       "1           1        김유경  스펙 아무것도 없이 4학년 시작하는 시점이라 너무 착잡했는데ㅠㅠ 이 영상이 추천에 ...   \n",
       "2           2        신영웅  말은 겸손한척 하시지만 공부머리로 커버하시는 스탈인듯 중요한건 노력이든 천성이든 기...   \n",
       "3           3   sarang87  기본적으로 상위층이시네요. 일단 학교도 좋으시고 하고. 빡쎄게 한다고 다 되는 머리...   \n",
       "4           4   오프로OhPro  저렇게 열심히 살았는데 몇 년 후 유튜브 쭈구리가 되었다..\\nㅋㅋㅋㅋㅋㅋㅋㅋㅋㅋㅋ...   \n",
       "\n",
       "   like_num  \n",
       "0        19  \n",
       "1        33  \n",
       "2         2  \n",
       "3        33  \n",
       "4        68  "
      ]
     },
     "execution_count": 7,
     "metadata": {},
     "output_type": "execute_result"
    }
   ],
   "source": [
    "df.head()"
   ]
  },
  {
   "cell_type": "code",
   "execution_count": 8,
   "metadata": {
    "scrolled": true
   },
   "outputs": [],
   "source": [
    "import pandas as pd\n",
    "import re\n",
    "import konlpy\n",
    "import matplotlib.pyplot as plt\n",
    "from matplotlib import font_manager, rc\n",
    "import numpy as np\n",
    "font_name = font_manager.FontProperties(fname=\"c:/Windows/Fonts/malgun.ttf\").get_name()\n",
    "rc('font', family=font_name)\n",
    "plt.rcParams['figure.figsize'] = [20, 20]\n",
    "plt.rcParams.update({'font.size': 22})"
   ]
  },
  {
   "cell_type": "code",
   "execution_count": 9,
   "metadata": {},
   "outputs": [],
   "source": [
    "sent_dic = pd.read_csv('SentiWord_Dict.txt',sep = '\\t',header=None)"
   ]
  },
  {
   "cell_type": "code",
   "execution_count": 10,
   "metadata": {},
   "outputs": [],
   "source": [
    "sent_dic.iloc[14850,0]='갈등'\n",
    "sent_dic.iloc[14850,1]=-1"
   ]
  },
  {
   "cell_type": "code",
   "execution_count": 11,
   "metadata": {},
   "outputs": [],
   "source": [
    "pos_dic = sent_dic[sent_dic[1]>0]\n",
    "neg_dic = sent_dic[sent_dic[1]<0]\n",
    "neu_dic = sent_dic[sent_dic[1]==0]"
   ]
  },
  {
   "cell_type": "code",
   "execution_count": 12,
   "metadata": {},
   "outputs": [
    {
     "data": {
      "text/plain": [
       "14852"
      ]
     },
     "execution_count": 12,
     "metadata": {},
     "output_type": "execute_result"
    }
   ],
   "source": [
    "len(list(set(sent_dic[0])))"
   ]
  },
  {
   "cell_type": "code",
   "execution_count": 13,
   "metadata": {},
   "outputs": [],
   "source": [
    "df.reset_index(drop=True, inplace=True) #데이터프레임 리인덱싱"
   ]
  },
  {
   "cell_type": "code",
   "execution_count": 14,
   "metadata": {
    "scrolled": true
   },
   "outputs": [],
   "source": [
    "#텍스트 전처리\n",
    "df_s={'youtube_id':[],'comment':[]}\n",
    "for idx,i in enumerate(df['comment']):\n",
    "    text=[]\n",
    "    a = re.sub('[^가-힣0-9a-zA-Z\\\\s]', '',i)\n",
    "    for j in a.split():\n",
    "        text.append(j)\n",
    "    df_s['youtube_id'].append(df['youtube_id'][idx])\n",
    "    df_s['comment'].append(' '.join(text))"
   ]
  },
  {
   "cell_type": "code",
   "execution_count": 15,
   "metadata": {},
   "outputs": [],
   "source": [
    "okt = konlpy.tag.Okt()"
   ]
  },
  {
   "cell_type": "code",
   "execution_count": 16,
   "metadata": {},
   "outputs": [],
   "source": [
    "for i,v in enumerate(df_s['comment']):\n",
    "    df_s['comment'][i] = okt.pos(v)"
   ]
  },
  {
   "cell_type": "code",
   "execution_count": 17,
   "metadata": {},
   "outputs": [],
   "source": [
    "for idx,i in enumerate(df_s['comment']):\n",
    "    text=[]\n",
    "    for j in i:\n",
    "        if j[1] == 'Adjective' or j[1]=='Adverb' or j[1] == 'Determiner' or j[1] == 'Noun' or j[1] == 'Verb' or 'Unknown':\n",
    "            text.append(j[0])\n",
    "    df_s['comment'][idx] = text"
   ]
  },
  {
   "cell_type": "code",
   "execution_count": 18,
   "metadata": {},
   "outputs": [],
   "source": [
    "pos=[]\n",
    "neg=[]\n",
    "for i in df_s['comment']:\n",
    "    for j in i:\n",
    "        if len(sent_dic[sent_dic[0]==j])==1:\n",
    "            a = float(sent_dic[sent_dic[0]==j][1])\n",
    "            if a > 0:\n",
    "                pos.append(j)\n",
    "            elif a < 0:\n",
    "                neg.append(j)\n",
    "    pos = list(set(pos))\n",
    "    neg = list(set(neg))"
   ]
  },
  {
   "cell_type": "code",
   "execution_count": 19,
   "metadata": {},
   "outputs": [],
   "source": [
    "k={}\n",
    "for i in df_s['comment']:\n",
    "    for j in i:\n",
    "        k[j] = {'W1':0,'W1W2P':0,'W1W2N':0}"
   ]
  },
  {
   "cell_type": "code",
   "execution_count": 20,
   "metadata": {},
   "outputs": [],
   "source": [
    "for i in pos:\n",
    "    for j in df_s['comment']:\n",
    "        for p in j:\n",
    "            k[p]['W1']+=1\n",
    "            for po in pos:\n",
    "                if po in j:\n",
    "                    k[p]['W1W2P']+=1\n",
    "                    break\n",
    "            for ne in neg :\n",
    "                if ne in j:\n",
    "                    k[p]['W1W2N']+=1\n",
    "                    break"
   ]
  },
  {
   "cell_type": "code",
   "execution_count": 21,
   "metadata": {},
   "outputs": [],
   "source": [
    "k_t=pd.DataFrame(k)"
   ]
  },
  {
   "cell_type": "code",
   "execution_count": 22,
   "metadata": {},
   "outputs": [],
   "source": [
    "pos_cnt=sum(k_t.loc[::,pos].iloc[0,::])\n",
    "neg_cnt=sum(k_t.loc[::,neg].iloc[0,::])\n",
    "N=sum(k_t.iloc[0,::])"
   ]
  },
  {
   "cell_type": "code",
   "execution_count": 23,
   "metadata": {},
   "outputs": [],
   "source": [
    "k_f=k_t.T"
   ]
  },
  {
   "cell_type": "code",
   "execution_count": 24,
   "metadata": {},
   "outputs": [],
   "source": [
    "k_f['neg_cnt']=neg_cnt\n",
    "k_f['pos_cnt']=pos_cnt\n",
    "k_f['N']=N"
   ]
  },
  {
   "cell_type": "code",
   "execution_count": 25,
   "metadata": {},
   "outputs": [
    {
     "name": "stderr",
     "output_type": "stream",
     "text": [
      "C:\\Users\\4770pc2\\anaconda3\\lib\\site-packages\\pandas\\core\\series.py:679: RuntimeWarning: divide by zero encountered in log2\n",
      "  result = getattr(ufunc, method)(*inputs, **kwargs)\n"
     ]
    }
   ],
   "source": [
    "k_f['MI_N']=np.log2(k_f['W1W2N']*k_f['N']/k_f['W1']*k_f['neg_cnt'])\n",
    "k_f['MI_P']=np.log2(k_f['W1W2P']*k_f['N']/k_f['W1']*k_f['pos_cnt'])"
   ]
  },
  {
   "cell_type": "code",
   "execution_count": 26,
   "metadata": {},
   "outputs": [],
   "source": [
    "k_f['SO_MI']=k_f['MI_P'] - k_f['MI_N']"
   ]
  },
  {
   "cell_type": "code",
   "execution_count": 27,
   "metadata": {},
   "outputs": [],
   "source": [
    "k_n=k_f.replace([np.inf, -np.inf], np.nan).dropna(axis=0)"
   ]
  },
  {
   "cell_type": "code",
   "execution_count": 28,
   "metadata": {},
   "outputs": [
    {
     "data": {
      "text/html": [
       "<div>\n",
       "<style scoped>\n",
       "    .dataframe tbody tr th:only-of-type {\n",
       "        vertical-align: middle;\n",
       "    }\n",
       "\n",
       "    .dataframe tbody tr th {\n",
       "        vertical-align: top;\n",
       "    }\n",
       "\n",
       "    .dataframe thead th {\n",
       "        text-align: right;\n",
       "    }\n",
       "</style>\n",
       "<table border=\"1\" class=\"dataframe\">\n",
       "  <thead>\n",
       "    <tr style=\"text-align: right;\">\n",
       "      <th></th>\n",
       "      <th>W1</th>\n",
       "      <th>W1W2P</th>\n",
       "      <th>W1W2N</th>\n",
       "      <th>neg_cnt</th>\n",
       "      <th>pos_cnt</th>\n",
       "      <th>N</th>\n",
       "      <th>MI_N</th>\n",
       "      <th>MI_P</th>\n",
       "      <th>SO_MI</th>\n",
       "    </tr>\n",
       "  </thead>\n",
       "  <tbody>\n",
       "    <tr>\n",
       "      <th>보기</th>\n",
       "      <td>2376</td>\n",
       "      <td>1716</td>\n",
       "      <td>132</td>\n",
       "      <td>34056</td>\n",
       "      <td>85404</td>\n",
       "      <td>3162060</td>\n",
       "      <td>32.478130</td>\n",
       "      <td>37.504964</td>\n",
       "      <td>5.026834</td>\n",
       "    </tr>\n",
       "    <tr>\n",
       "      <th>됩니다</th>\n",
       "      <td>1848</td>\n",
       "      <td>1452</td>\n",
       "      <td>132</td>\n",
       "      <td>34056</td>\n",
       "      <td>85404</td>\n",
       "      <td>3162060</td>\n",
       "      <td>32.840700</td>\n",
       "      <td>37.626526</td>\n",
       "      <td>4.785826</td>\n",
       "    </tr>\n",
       "    <tr>\n",
       "      <th>하신</th>\n",
       "      <td>1584</td>\n",
       "      <td>1188</td>\n",
       "      <td>132</td>\n",
       "      <td>34056</td>\n",
       "      <td>85404</td>\n",
       "      <td>3162060</td>\n",
       "      <td>33.063092</td>\n",
       "      <td>37.559412</td>\n",
       "      <td>4.496320</td>\n",
       "    </tr>\n",
       "    <tr>\n",
       "      <th>방학</th>\n",
       "      <td>1056</td>\n",
       "      <td>1056</td>\n",
       "      <td>132</td>\n",
       "      <td>34056</td>\n",
       "      <td>85404</td>\n",
       "      <td>3162060</td>\n",
       "      <td>33.648055</td>\n",
       "      <td>37.974449</td>\n",
       "      <td>4.326395</td>\n",
       "    </tr>\n",
       "    <tr>\n",
       "      <th>JOB</th>\n",
       "      <td>1716</td>\n",
       "      <td>1056</td>\n",
       "      <td>132</td>\n",
       "      <td>34056</td>\n",
       "      <td>85404</td>\n",
       "      <td>3162060</td>\n",
       "      <td>32.947615</td>\n",
       "      <td>37.274010</td>\n",
       "      <td>4.326395</td>\n",
       "    </tr>\n",
       "    <tr>\n",
       "      <th>...</th>\n",
       "      <td>...</td>\n",
       "      <td>...</td>\n",
       "      <td>...</td>\n",
       "      <td>...</td>\n",
       "      <td>...</td>\n",
       "      <td>...</td>\n",
       "      <td>...</td>\n",
       "      <td>...</td>\n",
       "      <td>...</td>\n",
       "    </tr>\n",
       "    <tr>\n",
       "      <th>지인</th>\n",
       "      <td>396</td>\n",
       "      <td>132</td>\n",
       "      <td>396</td>\n",
       "      <td>34056</td>\n",
       "      <td>85404</td>\n",
       "      <td>3162060</td>\n",
       "      <td>36.648055</td>\n",
       "      <td>36.389487</td>\n",
       "      <td>-0.258568</td>\n",
       "    </tr>\n",
       "    <tr>\n",
       "      <th>자세</th>\n",
       "      <td>396</td>\n",
       "      <td>132</td>\n",
       "      <td>396</td>\n",
       "      <td>34056</td>\n",
       "      <td>85404</td>\n",
       "      <td>3162060</td>\n",
       "      <td>36.648055</td>\n",
       "      <td>36.389487</td>\n",
       "      <td>-0.258568</td>\n",
       "    </tr>\n",
       "    <tr>\n",
       "      <th>심하게</th>\n",
       "      <td>528</td>\n",
       "      <td>132</td>\n",
       "      <td>528</td>\n",
       "      <td>34056</td>\n",
       "      <td>85404</td>\n",
       "      <td>3162060</td>\n",
       "      <td>36.648055</td>\n",
       "      <td>35.974449</td>\n",
       "      <td>-0.673605</td>\n",
       "    </tr>\n",
       "    <tr>\n",
       "      <th>요가</th>\n",
       "      <td>1716</td>\n",
       "      <td>132</td>\n",
       "      <td>660</td>\n",
       "      <td>34056</td>\n",
       "      <td>85404</td>\n",
       "      <td>3162060</td>\n",
       "      <td>35.269543</td>\n",
       "      <td>34.274010</td>\n",
       "      <td>-0.995533</td>\n",
       "    </tr>\n",
       "    <tr>\n",
       "      <th>불안감</th>\n",
       "      <td>792</td>\n",
       "      <td>132</td>\n",
       "      <td>792</td>\n",
       "      <td>34056</td>\n",
       "      <td>85404</td>\n",
       "      <td>3162060</td>\n",
       "      <td>36.648055</td>\n",
       "      <td>35.389487</td>\n",
       "      <td>-1.258568</td>\n",
       "    </tr>\n",
       "  </tbody>\n",
       "</table>\n",
       "<p>2709 rows × 9 columns</p>\n",
       "</div>"
      ],
      "text/plain": [
       "       W1  W1W2P  W1W2N  neg_cnt  pos_cnt        N       MI_N       MI_P  \\\n",
       "보기   2376   1716    132    34056    85404  3162060  32.478130  37.504964   \n",
       "됩니다  1848   1452    132    34056    85404  3162060  32.840700  37.626526   \n",
       "하신   1584   1188    132    34056    85404  3162060  33.063092  37.559412   \n",
       "방학   1056   1056    132    34056    85404  3162060  33.648055  37.974449   \n",
       "JOB  1716   1056    132    34056    85404  3162060  32.947615  37.274010   \n",
       "..    ...    ...    ...      ...      ...      ...        ...        ...   \n",
       "지인    396    132    396    34056    85404  3162060  36.648055  36.389487   \n",
       "자세    396    132    396    34056    85404  3162060  36.648055  36.389487   \n",
       "심하게   528    132    528    34056    85404  3162060  36.648055  35.974449   \n",
       "요가   1716    132    660    34056    85404  3162060  35.269543  34.274010   \n",
       "불안감   792    132    792    34056    85404  3162060  36.648055  35.389487   \n",
       "\n",
       "        SO_MI  \n",
       "보기   5.026834  \n",
       "됩니다  4.785826  \n",
       "하신   4.496320  \n",
       "방학   4.326395  \n",
       "JOB  4.326395  \n",
       "..        ...  \n",
       "지인  -0.258568  \n",
       "자세  -0.258568  \n",
       "심하게 -0.673605  \n",
       "요가  -0.995533  \n",
       "불안감 -1.258568  \n",
       "\n",
       "[2709 rows x 9 columns]"
      ]
     },
     "execution_count": 28,
     "metadata": {},
     "output_type": "execute_result"
    }
   ],
   "source": [
    "k_n.sort_values(by=['SO_MI'],ascending=False)"
   ]
  },
  {
   "cell_type": "code",
   "execution_count": 29,
   "metadata": {},
   "outputs": [],
   "source": [
    "add_Dic = {0:[],1:[]}\n",
    "for i in k_n[k_n['SO_MI']>0].T.keys():\n",
    "    if i not in list(sent_dic[0]):\n",
    "        if len(i) > 1:\n",
    "            add_Dic[0].append(i)\n",
    "            add_Dic[1].append(1.0)\n",
    "for i in k_n[k_n['SO_MI']<0].T.keys():\n",
    "    if i not in list(sent_dic[0]):\n",
    "        add_Dic[0].append(i)\n",
    "        add_Dic[1].append(-1.0)"
   ]
  },
  {
   "cell_type": "code",
   "execution_count": 30,
   "metadata": {},
   "outputs": [],
   "source": [
    "add_Dic=pd.DataFrame(add_Dic)"
   ]
  },
  {
   "cell_type": "code",
   "execution_count": 31,
   "metadata": {},
   "outputs": [],
   "source": [
    "Sentiment=pd.merge(sent_dic,add_Dic,'outer')"
   ]
  },
  {
   "cell_type": "code",
   "execution_count": 32,
   "metadata": {},
   "outputs": [],
   "source": [
    "cnt = []\n",
    "for i in df_s['comment']:\n",
    "    count=0\n",
    "    for j in list(set(i)):\n",
    "        if len(Sentiment[Sentiment[0]==j])==1:\n",
    "            a = float(Sentiment[Sentiment[0]==j][1])\n",
    "            count += a\n",
    "    cnt.append(count)"
   ]
  },
  {
   "cell_type": "code",
   "execution_count": 33,
   "metadata": {},
   "outputs": [],
   "source": [
    "df['score']=cnt"
   ]
  },
  {
   "cell_type": "code",
   "execution_count": 34,
   "metadata": {},
   "outputs": [
    {
     "name": "stderr",
     "output_type": "stream",
     "text": [
      "C:\\Users\\4770pc2\\anaconda3\\lib\\site-packages\\ipykernel_launcher.py:3: RuntimeWarning: invalid value encountered in double_scalars\n",
      "  This is separate from the ipykernel package so we can avoid doing imports until\n"
     ]
    }
   ],
   "source": [
    "ratio=[]\n",
    "for i in range(len(df['score'])):\n",
    "    ratio.append(round(df['score'][i]/len(df_s['comment'][i]),2))"
   ]
  },
  {
   "cell_type": "code",
   "execution_count": 35,
   "metadata": {},
   "outputs": [],
   "source": [
    "df['cm_ratio']=ratio\n",
    "df=df.fillna(0)"
   ]
  },
  {
   "cell_type": "code",
   "execution_count": 36,
   "metadata": {},
   "outputs": [],
   "source": [
    "df.to_excel('sentiment_total_score_job.xlsx')"
   ]
  },
  {
   "cell_type": "code",
   "execution_count": 37,
   "metadata": {},
   "outputs": [],
   "source": [
    "ts=pd.read_excel('sentiment_total_score_job.xlsx')"
   ]
  },
  {
   "cell_type": "code",
   "execution_count": 38,
   "metadata": {
    "scrolled": true
   },
   "outputs": [
    {
     "data": {
      "text/html": [
       "<div>\n",
       "<style scoped>\n",
       "    .dataframe tbody tr th:only-of-type {\n",
       "        vertical-align: middle;\n",
       "    }\n",
       "\n",
       "    .dataframe tbody tr th {\n",
       "        vertical-align: top;\n",
       "    }\n",
       "\n",
       "    .dataframe thead th {\n",
       "        text-align: right;\n",
       "    }\n",
       "</style>\n",
       "<table border=\"1\" class=\"dataframe\">\n",
       "  <thead>\n",
       "    <tr style=\"text-align: right;\">\n",
       "      <th></th>\n",
       "      <th>Unnamed: 0</th>\n",
       "      <th>Unnamed: 0.1</th>\n",
       "      <th>youtube_id</th>\n",
       "      <th>comment</th>\n",
       "      <th>like_num</th>\n",
       "      <th>score</th>\n",
       "      <th>cm_ratio</th>\n",
       "    </tr>\n",
       "  </thead>\n",
       "  <tbody>\n",
       "    <tr>\n",
       "      <th>0</th>\n",
       "      <td>0</td>\n",
       "      <td>0</td>\n",
       "      <td>오프로OhPro</td>\n",
       "      <td>★Job소리토크 시리즈는 더보기란이나 'JOB소리 Talk' 재생목록을 통해 보실 ...</td>\n",
       "      <td>19</td>\n",
       "      <td>22</td>\n",
       "      <td>0.46</td>\n",
       "    </tr>\n",
       "    <tr>\n",
       "      <th>1</th>\n",
       "      <td>1</td>\n",
       "      <td>1</td>\n",
       "      <td>김유경</td>\n",
       "      <td>스펙 아무것도 없이 4학년 시작하는 시점이라 너무 착잡했는데ㅠㅠ 이 영상이 추천에 ...</td>\n",
       "      <td>33</td>\n",
       "      <td>14</td>\n",
       "      <td>0.56</td>\n",
       "    </tr>\n",
       "    <tr>\n",
       "      <th>2</th>\n",
       "      <td>2</td>\n",
       "      <td>2</td>\n",
       "      <td>신영웅</td>\n",
       "      <td>말은 겸손한척 하시지만 공부머리로 커버하시는 스탈인듯 중요한건 노력이든 천성이든 기...</td>\n",
       "      <td>2</td>\n",
       "      <td>12</td>\n",
       "      <td>0.35</td>\n",
       "    </tr>\n",
       "    <tr>\n",
       "      <th>3</th>\n",
       "      <td>3</td>\n",
       "      <td>3</td>\n",
       "      <td>sarang87</td>\n",
       "      <td>기본적으로 상위층이시네요. 일단 학교도 좋으시고 하고. 빡쎄게 한다고 다 되는 머리...</td>\n",
       "      <td>33</td>\n",
       "      <td>12</td>\n",
       "      <td>0.46</td>\n",
       "    </tr>\n",
       "    <tr>\n",
       "      <th>4</th>\n",
       "      <td>4</td>\n",
       "      <td>4</td>\n",
       "      <td>오프로OhPro</td>\n",
       "      <td>저렇게 열심히 살았는데 몇 년 후 유튜브 쭈구리가 되었다..\\nㅋㅋㅋㅋㅋㅋㅋㅋㅋㅋㅋ...</td>\n",
       "      <td>68</td>\n",
       "      <td>3</td>\n",
       "      <td>0.30</td>\n",
       "    </tr>\n",
       "  </tbody>\n",
       "</table>\n",
       "</div>"
      ],
      "text/plain": [
       "   Unnamed: 0  Unnamed: 0.1 youtube_id  \\\n",
       "0           0             0   오프로OhPro   \n",
       "1           1             1        김유경   \n",
       "2           2             2        신영웅   \n",
       "3           3             3   sarang87   \n",
       "4           4             4   오프로OhPro   \n",
       "\n",
       "                                             comment  like_num  score  \\\n",
       "0  ★Job소리토크 시리즈는 더보기란이나 'JOB소리 Talk' 재생목록을 통해 보실 ...        19     22   \n",
       "1  스펙 아무것도 없이 4학년 시작하는 시점이라 너무 착잡했는데ㅠㅠ 이 영상이 추천에 ...        33     14   \n",
       "2  말은 겸손한척 하시지만 공부머리로 커버하시는 스탈인듯 중요한건 노력이든 천성이든 기...         2     12   \n",
       "3  기본적으로 상위층이시네요. 일단 학교도 좋으시고 하고. 빡쎄게 한다고 다 되는 머리...        33     12   \n",
       "4  저렇게 열심히 살았는데 몇 년 후 유튜브 쭈구리가 되었다..\\nㅋㅋㅋㅋㅋㅋㅋㅋㅋㅋㅋ...        68      3   \n",
       "\n",
       "   cm_ratio  \n",
       "0      0.46  \n",
       "1      0.56  \n",
       "2      0.35  \n",
       "3      0.46  \n",
       "4      0.30  "
      ]
     },
     "execution_count": 38,
     "metadata": {},
     "output_type": "execute_result"
    }
   ],
   "source": [
    "ts.head()"
   ]
  },
  {
   "cell_type": "code",
   "execution_count": 39,
   "metadata": {},
   "outputs": [],
   "source": [
    "ts['like_num']=np.where(ts['like_num']==0,1,ts['like_num'])"
   ]
  },
  {
   "cell_type": "code",
   "execution_count": 40,
   "metadata": {},
   "outputs": [],
   "source": [
    "ts['like_score']=ts['like_num']*ts['score']"
   ]
  },
  {
   "cell_type": "code",
   "execution_count": 41,
   "metadata": {
    "scrolled": true
   },
   "outputs": [
    {
     "data": {
      "text/html": [
       "<div>\n",
       "<style scoped>\n",
       "    .dataframe tbody tr th:only-of-type {\n",
       "        vertical-align: middle;\n",
       "    }\n",
       "\n",
       "    .dataframe tbody tr th {\n",
       "        vertical-align: top;\n",
       "    }\n",
       "\n",
       "    .dataframe thead th {\n",
       "        text-align: right;\n",
       "    }\n",
       "</style>\n",
       "<table border=\"1\" class=\"dataframe\">\n",
       "  <thead>\n",
       "    <tr style=\"text-align: right;\">\n",
       "      <th></th>\n",
       "      <th>Unnamed: 0</th>\n",
       "      <th>Unnamed: 0.1</th>\n",
       "      <th>youtube_id</th>\n",
       "      <th>comment</th>\n",
       "      <th>like_num</th>\n",
       "      <th>score</th>\n",
       "      <th>cm_ratio</th>\n",
       "      <th>like_score</th>\n",
       "    </tr>\n",
       "  </thead>\n",
       "  <tbody>\n",
       "    <tr>\n",
       "      <th>0</th>\n",
       "      <td>0</td>\n",
       "      <td>0</td>\n",
       "      <td>오프로OhPro</td>\n",
       "      <td>★Job소리토크 시리즈는 더보기란이나 'JOB소리 Talk' 재생목록을 통해 보실 ...</td>\n",
       "      <td>19</td>\n",
       "      <td>22</td>\n",
       "      <td>0.46</td>\n",
       "      <td>418</td>\n",
       "    </tr>\n",
       "    <tr>\n",
       "      <th>1</th>\n",
       "      <td>1</td>\n",
       "      <td>1</td>\n",
       "      <td>김유경</td>\n",
       "      <td>스펙 아무것도 없이 4학년 시작하는 시점이라 너무 착잡했는데ㅠㅠ 이 영상이 추천에 ...</td>\n",
       "      <td>33</td>\n",
       "      <td>14</td>\n",
       "      <td>0.56</td>\n",
       "      <td>462</td>\n",
       "    </tr>\n",
       "    <tr>\n",
       "      <th>2</th>\n",
       "      <td>2</td>\n",
       "      <td>2</td>\n",
       "      <td>신영웅</td>\n",
       "      <td>말은 겸손한척 하시지만 공부머리로 커버하시는 스탈인듯 중요한건 노력이든 천성이든 기...</td>\n",
       "      <td>2</td>\n",
       "      <td>12</td>\n",
       "      <td>0.35</td>\n",
       "      <td>24</td>\n",
       "    </tr>\n",
       "    <tr>\n",
       "      <th>3</th>\n",
       "      <td>3</td>\n",
       "      <td>3</td>\n",
       "      <td>sarang87</td>\n",
       "      <td>기본적으로 상위층이시네요. 일단 학교도 좋으시고 하고. 빡쎄게 한다고 다 되는 머리...</td>\n",
       "      <td>33</td>\n",
       "      <td>12</td>\n",
       "      <td>0.46</td>\n",
       "      <td>396</td>\n",
       "    </tr>\n",
       "    <tr>\n",
       "      <th>4</th>\n",
       "      <td>4</td>\n",
       "      <td>4</td>\n",
       "      <td>오프로OhPro</td>\n",
       "      <td>저렇게 열심히 살았는데 몇 년 후 유튜브 쭈구리가 되었다..\\nㅋㅋㅋㅋㅋㅋㅋㅋㅋㅋㅋ...</td>\n",
       "      <td>68</td>\n",
       "      <td>3</td>\n",
       "      <td>0.30</td>\n",
       "      <td>204</td>\n",
       "    </tr>\n",
       "  </tbody>\n",
       "</table>\n",
       "</div>"
      ],
      "text/plain": [
       "   Unnamed: 0  Unnamed: 0.1 youtube_id  \\\n",
       "0           0             0   오프로OhPro   \n",
       "1           1             1        김유경   \n",
       "2           2             2        신영웅   \n",
       "3           3             3   sarang87   \n",
       "4           4             4   오프로OhPro   \n",
       "\n",
       "                                             comment  like_num  score  \\\n",
       "0  ★Job소리토크 시리즈는 더보기란이나 'JOB소리 Talk' 재생목록을 통해 보실 ...        19     22   \n",
       "1  스펙 아무것도 없이 4학년 시작하는 시점이라 너무 착잡했는데ㅠㅠ 이 영상이 추천에 ...        33     14   \n",
       "2  말은 겸손한척 하시지만 공부머리로 커버하시는 스탈인듯 중요한건 노력이든 천성이든 기...         2     12   \n",
       "3  기본적으로 상위층이시네요. 일단 학교도 좋으시고 하고. 빡쎄게 한다고 다 되는 머리...        33     12   \n",
       "4  저렇게 열심히 살았는데 몇 년 후 유튜브 쭈구리가 되었다..\\nㅋㅋㅋㅋㅋㅋㅋㅋㅋㅋㅋ...        68      3   \n",
       "\n",
       "   cm_ratio  like_score  \n",
       "0      0.46         418  \n",
       "1      0.56         462  \n",
       "2      0.35          24  \n",
       "3      0.46         396  \n",
       "4      0.30         204  "
      ]
     },
     "execution_count": 41,
     "metadata": {},
     "output_type": "execute_result"
    }
   ],
   "source": [
    "ts.head()"
   ]
  },
  {
   "cell_type": "code",
   "execution_count": 43,
   "metadata": {},
   "outputs": [],
   "source": [
    "sent=sum(ts['like_score'])/len(ts)"
   ]
  },
  {
   "cell_type": "code",
   "execution_count": 45,
   "metadata": {},
   "outputs": [],
   "source": [
    "f=open(\"오프로_컨설팅.txt\", 'a')\n",
    "print(\"Job의 감성점수는\",sent,\"점입니다\",\"\\n\",file=f)\n",
    "f.close()"
   ]
  },
  {
   "cell_type": "markdown",
   "metadata": {},
   "source": [
    "# Food"
   ]
  },
  {
   "cell_type": "code",
   "execution_count": 1,
   "metadata": {},
   "outputs": [],
   "source": [
    "import pandas as pd\n",
    "import os\n",
    "import glob\n",
    "import re"
   ]
  },
  {
   "cell_type": "code",
   "execution_count": 2,
   "metadata": {},
   "outputs": [],
   "source": [
    "df = []\n",
    "for i in range(1,12):\n",
    "    dfname = \"food\" + str(i) + '.xlsx'\n",
    "    tempdf = pd.read_excel(dfname)\n",
    "    df.append(tempdf)"
   ]
  },
  {
   "cell_type": "code",
   "execution_count": 3,
   "metadata": {},
   "outputs": [],
   "source": [
    "df=[df1,df2,df3,df4,df5,df6,df7,df8,df9,df10,df11,df12]"
   ]
  },
  {
   "cell_type": "code",
   "execution_count": 4,
   "metadata": {},
   "outputs": [],
   "source": [
    "df=pd.concat(df)"
   ]
  },
  {
   "cell_type": "code",
   "execution_count": 5,
   "metadata": {
    "scrolled": true
   },
   "outputs": [
    {
     "data": {
      "text/html": [
       "<div>\n",
       "<style scoped>\n",
       "    .dataframe tbody tr th:only-of-type {\n",
       "        vertical-align: middle;\n",
       "    }\n",
       "\n",
       "    .dataframe tbody tr th {\n",
       "        vertical-align: top;\n",
       "    }\n",
       "\n",
       "    .dataframe thead th {\n",
       "        text-align: right;\n",
       "    }\n",
       "</style>\n",
       "<table border=\"1\" class=\"dataframe\">\n",
       "  <thead>\n",
       "    <tr style=\"text-align: right;\">\n",
       "      <th></th>\n",
       "      <th>Unnamed: 0</th>\n",
       "      <th>youtube_id</th>\n",
       "      <th>comment</th>\n",
       "      <th>like_num</th>\n",
       "    </tr>\n",
       "  </thead>\n",
       "  <tbody>\n",
       "    <tr>\n",
       "      <th>0</th>\n",
       "      <td>0</td>\n",
       "      <td>오프로OhPro</td>\n",
       "      <td>여러분~~~ 제가 작년에도 아임닭 소시지 리뷰한 적이 있었는데, 이번에 오랜만에 다...</td>\n",
       "      <td>5개</td>\n",
       "    </tr>\n",
       "    <tr>\n",
       "      <th>1</th>\n",
       "      <td>1</td>\n",
       "      <td>KibumJung</td>\n",
       "      <td>다이어트식으로 좋을것 같네요\\n요즘 일일일식 하는데..\\n저거라도 사 먹어볼까 하는...</td>\n",
       "      <td>2개</td>\n",
       "    </tr>\n",
       "    <tr>\n",
       "      <th>2</th>\n",
       "      <td>2</td>\n",
       "      <td>규리작가s새벽별속삭임</td>\n",
       "      <td>그거 먹을만해요 ㅋㅋㅋㅋ\\n지금은 채식이라 안먹지만요👍👍\\n고생좀하셨네요;;;;;;...</td>\n",
       "      <td>1개</td>\n",
       "    </tr>\n",
       "    <tr>\n",
       "      <th>3</th>\n",
       "      <td>3</td>\n",
       "      <td>아바라TV미니멀짠테크</td>\n",
       "      <td>오프로님....이놈의 소스가...ㅋㅋ 혀를 꼬이게 했군여\\n리뷰를 정말 잘하시는거 ...</td>\n",
       "      <td>1개</td>\n",
       "    </tr>\n",
       "    <tr>\n",
       "      <th>4</th>\n",
       "      <td>4</td>\n",
       "      <td>Lila</td>\n",
       "      <td>이건 아니야 짱웃겨욬ㅋㅋㅋㅋㅋㅋㅋㅋ\\n온몸으로 거부 ㅋㅋㅋㅋㅋㅋㅋㅋㅋ</td>\n",
       "      <td>0개</td>\n",
       "    </tr>\n",
       "  </tbody>\n",
       "</table>\n",
       "</div>"
      ],
      "text/plain": [
       "   Unnamed: 0   youtube_id                                            comment  \\\n",
       "0           0     오프로OhPro  여러분~~~ 제가 작년에도 아임닭 소시지 리뷰한 적이 있었는데, 이번에 오랜만에 다...   \n",
       "1           1    KibumJung  다이어트식으로 좋을것 같네요\\n요즘 일일일식 하는데..\\n저거라도 사 먹어볼까 하는...   \n",
       "2           2  규리작가s새벽별속삭임  그거 먹을만해요 ㅋㅋㅋㅋ\\n지금은 채식이라 안먹지만요👍👍\\n고생좀하셨네요;;;;;;...   \n",
       "3           3  아바라TV미니멀짠테크  오프로님....이놈의 소스가...ㅋㅋ 혀를 꼬이게 했군여\\n리뷰를 정말 잘하시는거 ...   \n",
       "4           4         Lila             이건 아니야 짱웃겨욬ㅋㅋㅋㅋㅋㅋㅋㅋ\\n온몸으로 거부 ㅋㅋㅋㅋㅋㅋㅋㅋㅋ   \n",
       "\n",
       "  like_num  \n",
       "0       5개  \n",
       "1       2개  \n",
       "2       1개  \n",
       "3       1개  \n",
       "4       0개  "
      ]
     },
     "execution_count": 5,
     "metadata": {},
     "output_type": "execute_result"
    }
   ],
   "source": [
    "df.head()"
   ]
  },
  {
   "cell_type": "code",
   "execution_count": 6,
   "metadata": {},
   "outputs": [],
   "source": [
    "df['like_num'] = [re.sub(r'[^0-9]','', x) for x in df['like_num']]\n",
    "df['like_num'] = df['like_num'].astype(int)"
   ]
  },
  {
   "cell_type": "code",
   "execution_count": 7,
   "metadata": {
    "scrolled": true
   },
   "outputs": [
    {
     "data": {
      "text/html": [
       "<div>\n",
       "<style scoped>\n",
       "    .dataframe tbody tr th:only-of-type {\n",
       "        vertical-align: middle;\n",
       "    }\n",
       "\n",
       "    .dataframe tbody tr th {\n",
       "        vertical-align: top;\n",
       "    }\n",
       "\n",
       "    .dataframe thead th {\n",
       "        text-align: right;\n",
       "    }\n",
       "</style>\n",
       "<table border=\"1\" class=\"dataframe\">\n",
       "  <thead>\n",
       "    <tr style=\"text-align: right;\">\n",
       "      <th></th>\n",
       "      <th>Unnamed: 0</th>\n",
       "      <th>youtube_id</th>\n",
       "      <th>comment</th>\n",
       "      <th>like_num</th>\n",
       "    </tr>\n",
       "  </thead>\n",
       "  <tbody>\n",
       "    <tr>\n",
       "      <th>0</th>\n",
       "      <td>0</td>\n",
       "      <td>오프로OhPro</td>\n",
       "      <td>여러분~~~ 제가 작년에도 아임닭 소시지 리뷰한 적이 있었는데, 이번에 오랜만에 다...</td>\n",
       "      <td>5</td>\n",
       "    </tr>\n",
       "    <tr>\n",
       "      <th>1</th>\n",
       "      <td>1</td>\n",
       "      <td>KibumJung</td>\n",
       "      <td>다이어트식으로 좋을것 같네요\\n요즘 일일일식 하는데..\\n저거라도 사 먹어볼까 하는...</td>\n",
       "      <td>2</td>\n",
       "    </tr>\n",
       "    <tr>\n",
       "      <th>2</th>\n",
       "      <td>2</td>\n",
       "      <td>규리작가s새벽별속삭임</td>\n",
       "      <td>그거 먹을만해요 ㅋㅋㅋㅋ\\n지금은 채식이라 안먹지만요👍👍\\n고생좀하셨네요;;;;;;...</td>\n",
       "      <td>1</td>\n",
       "    </tr>\n",
       "    <tr>\n",
       "      <th>3</th>\n",
       "      <td>3</td>\n",
       "      <td>아바라TV미니멀짠테크</td>\n",
       "      <td>오프로님....이놈의 소스가...ㅋㅋ 혀를 꼬이게 했군여\\n리뷰를 정말 잘하시는거 ...</td>\n",
       "      <td>1</td>\n",
       "    </tr>\n",
       "    <tr>\n",
       "      <th>4</th>\n",
       "      <td>4</td>\n",
       "      <td>Lila</td>\n",
       "      <td>이건 아니야 짱웃겨욬ㅋㅋㅋㅋㅋㅋㅋㅋ\\n온몸으로 거부 ㅋㅋㅋㅋㅋㅋㅋㅋㅋ</td>\n",
       "      <td>0</td>\n",
       "    </tr>\n",
       "  </tbody>\n",
       "</table>\n",
       "</div>"
      ],
      "text/plain": [
       "   Unnamed: 0   youtube_id                                            comment  \\\n",
       "0           0     오프로OhPro  여러분~~~ 제가 작년에도 아임닭 소시지 리뷰한 적이 있었는데, 이번에 오랜만에 다...   \n",
       "1           1    KibumJung  다이어트식으로 좋을것 같네요\\n요즘 일일일식 하는데..\\n저거라도 사 먹어볼까 하는...   \n",
       "2           2  규리작가s새벽별속삭임  그거 먹을만해요 ㅋㅋㅋㅋ\\n지금은 채식이라 안먹지만요👍👍\\n고생좀하셨네요;;;;;;...   \n",
       "3           3  아바라TV미니멀짠테크  오프로님....이놈의 소스가...ㅋㅋ 혀를 꼬이게 했군여\\n리뷰를 정말 잘하시는거 ...   \n",
       "4           4         Lila             이건 아니야 짱웃겨욬ㅋㅋㅋㅋㅋㅋㅋㅋ\\n온몸으로 거부 ㅋㅋㅋㅋㅋㅋㅋㅋㅋ   \n",
       "\n",
       "   like_num  \n",
       "0         5  \n",
       "1         2  \n",
       "2         1  \n",
       "3         1  \n",
       "4         0  "
      ]
     },
     "execution_count": 7,
     "metadata": {},
     "output_type": "execute_result"
    }
   ],
   "source": [
    "df.head()"
   ]
  },
  {
   "cell_type": "code",
   "execution_count": 8,
   "metadata": {
    "scrolled": true
   },
   "outputs": [],
   "source": [
    "import pandas as pd\n",
    "import re\n",
    "import konlpy\n",
    "import matplotlib.pyplot as plt\n",
    "from matplotlib import font_manager, rc\n",
    "import numpy as np\n",
    "font_name = font_manager.FontProperties(fname=\"c:/Windows/Fonts/malgun.ttf\").get_name()\n",
    "rc('font', family=font_name)\n",
    "plt.rcParams['figure.figsize'] = [20, 20]\n",
    "plt.rcParams.update({'font.size': 22})"
   ]
  },
  {
   "cell_type": "code",
   "execution_count": 9,
   "metadata": {},
   "outputs": [],
   "source": [
    "sent_dic = pd.read_csv('SentiWord_Dict.txt',sep = '\\t',header=None)"
   ]
  },
  {
   "cell_type": "code",
   "execution_count": 10,
   "metadata": {},
   "outputs": [],
   "source": [
    "sent_dic.iloc[14850,0]='갈등'\n",
    "sent_dic.iloc[14850,1]=-1"
   ]
  },
  {
   "cell_type": "code",
   "execution_count": 11,
   "metadata": {},
   "outputs": [],
   "source": [
    "pos_dic = sent_dic[sent_dic[1]>0]\n",
    "neg_dic = sent_dic[sent_dic[1]<0]\n",
    "neu_dic = sent_dic[sent_dic[1]==0]"
   ]
  },
  {
   "cell_type": "code",
   "execution_count": 12,
   "metadata": {},
   "outputs": [
    {
     "data": {
      "text/plain": [
       "14852"
      ]
     },
     "execution_count": 12,
     "metadata": {},
     "output_type": "execute_result"
    }
   ],
   "source": [
    "len(list(set(sent_dic[0])))"
   ]
  },
  {
   "cell_type": "code",
   "execution_count": 13,
   "metadata": {},
   "outputs": [],
   "source": [
    "df.reset_index(drop=True, inplace=True) #데이터프레임 리인덱싱"
   ]
  },
  {
   "cell_type": "code",
   "execution_count": 14,
   "metadata": {
    "scrolled": true
   },
   "outputs": [],
   "source": [
    "#텍스트 전처리\n",
    "df_s={'youtube_id':[],'comment':[]}\n",
    "for idx,i in enumerate(df['comment']):\n",
    "    text=[]\n",
    "    a = re.sub('[^가-힣0-9a-zA-Z\\\\s]', '',i)\n",
    "    for j in a.split():\n",
    "        text.append(j)\n",
    "    df_s['youtube_id'].append(df['youtube_id'][idx])\n",
    "    df_s['comment'].append(' '.join(text))"
   ]
  },
  {
   "cell_type": "code",
   "execution_count": 15,
   "metadata": {},
   "outputs": [],
   "source": [
    "okt = konlpy.tag.Okt()"
   ]
  },
  {
   "cell_type": "code",
   "execution_count": 16,
   "metadata": {},
   "outputs": [],
   "source": [
    "for i,v in enumerate(df_s['comment']):\n",
    "    df_s['comment'][i] = okt.pos(v)"
   ]
  },
  {
   "cell_type": "code",
   "execution_count": 17,
   "metadata": {},
   "outputs": [],
   "source": [
    "for idx,i in enumerate(df_s['comment']):\n",
    "    text=[]\n",
    "    for j in i:\n",
    "        if j[1] == 'Adjective' or j[1]=='Adverb' or j[1] == 'Determiner' or j[1] == 'Noun' or j[1] == 'Verb' or 'Unknown':\n",
    "            text.append(j[0])\n",
    "    df_s['comment'][idx] = text"
   ]
  },
  {
   "cell_type": "code",
   "execution_count": 18,
   "metadata": {},
   "outputs": [],
   "source": [
    "pos=[]\n",
    "neg=[]\n",
    "for i in df_s['comment']:\n",
    "    for j in i:\n",
    "        if len(sent_dic[sent_dic[0]==j])==1:\n",
    "            a = float(sent_dic[sent_dic[0]==j][1])\n",
    "            if a > 0:\n",
    "                pos.append(j)\n",
    "            elif a < 0:\n",
    "                neg.append(j)\n",
    "    pos = list(set(pos))\n",
    "    neg = list(set(neg))"
   ]
  },
  {
   "cell_type": "code",
   "execution_count": 19,
   "metadata": {},
   "outputs": [],
   "source": [
    "k={}\n",
    "for i in df_s['comment']:\n",
    "    for j in i:\n",
    "        k[j] = {'W1':0,'W1W2P':0,'W1W2N':0}"
   ]
  },
  {
   "cell_type": "code",
   "execution_count": 20,
   "metadata": {},
   "outputs": [],
   "source": [
    "for i in pos:\n",
    "    for j in df_s['comment']:\n",
    "        for p in j:\n",
    "            k[p]['W1']+=1\n",
    "            for po in pos:\n",
    "                if po in j:\n",
    "                    k[p]['W1W2P']+=1\n",
    "                    break\n",
    "            for ne in neg :\n",
    "                if ne in j:\n",
    "                    k[p]['W1W2N']+=1\n",
    "                    break"
   ]
  },
  {
   "cell_type": "code",
   "execution_count": 21,
   "metadata": {},
   "outputs": [],
   "source": [
    "k_t=pd.DataFrame(k)"
   ]
  },
  {
   "cell_type": "code",
   "execution_count": 22,
   "metadata": {},
   "outputs": [],
   "source": [
    "pos_cnt=sum(k_t.loc[::,pos].iloc[0,::])\n",
    "neg_cnt=sum(k_t.loc[::,neg].iloc[0,::])\n",
    "N=sum(k_t.iloc[0,::])"
   ]
  },
  {
   "cell_type": "code",
   "execution_count": 23,
   "metadata": {},
   "outputs": [],
   "source": [
    "k_f=k_t.T"
   ]
  },
  {
   "cell_type": "code",
   "execution_count": 24,
   "metadata": {},
   "outputs": [],
   "source": [
    "k_f['neg_cnt']=neg_cnt\n",
    "k_f['pos_cnt']=pos_cnt\n",
    "k_f['N']=N"
   ]
  },
  {
   "cell_type": "code",
   "execution_count": 25,
   "metadata": {},
   "outputs": [
    {
     "name": "stderr",
     "output_type": "stream",
     "text": [
      "C:\\Users\\4770pc2\\anaconda3\\lib\\site-packages\\pandas\\core\\series.py:679: RuntimeWarning: divide by zero encountered in log2\n",
      "  result = getattr(ufunc, method)(*inputs, **kwargs)\n"
     ]
    }
   ],
   "source": [
    "k_f['MI_N']=np.log2(k_f['W1W2N']*k_f['N']/k_f['W1']*k_f['neg_cnt'])\n",
    "k_f['MI_P']=np.log2(k_f['W1W2P']*k_f['N']/k_f['W1']*k_f['pos_cnt'])"
   ]
  },
  {
   "cell_type": "code",
   "execution_count": 26,
   "metadata": {},
   "outputs": [],
   "source": [
    "k_f['SO_MI']=k_f['MI_P'] - k_f['MI_N']"
   ]
  },
  {
   "cell_type": "code",
   "execution_count": 27,
   "metadata": {},
   "outputs": [],
   "source": [
    "k_n=k_f.replace([np.inf, -np.inf], np.nan).dropna(axis=0)"
   ]
  },
  {
   "cell_type": "code",
   "execution_count": 28,
   "metadata": {},
   "outputs": [
    {
     "data": {
      "text/html": [
       "<div>\n",
       "<style scoped>\n",
       "    .dataframe tbody tr th:only-of-type {\n",
       "        vertical-align: middle;\n",
       "    }\n",
       "\n",
       "    .dataframe tbody tr th {\n",
       "        vertical-align: top;\n",
       "    }\n",
       "\n",
       "    .dataframe thead th {\n",
       "        text-align: right;\n",
       "    }\n",
       "</style>\n",
       "<table border=\"1\" class=\"dataframe\">\n",
       "  <thead>\n",
       "    <tr style=\"text-align: right;\">\n",
       "      <th></th>\n",
       "      <th>W1</th>\n",
       "      <th>W1W2P</th>\n",
       "      <th>W1W2N</th>\n",
       "      <th>neg_cnt</th>\n",
       "      <th>pos_cnt</th>\n",
       "      <th>N</th>\n",
       "      <th>MI_N</th>\n",
       "      <th>MI_P</th>\n",
       "      <th>SO_MI</th>\n",
       "    </tr>\n",
       "  </thead>\n",
       "  <tbody>\n",
       "    <tr>\n",
       "      <th>갑니다</th>\n",
       "      <td>2100</td>\n",
       "      <td>1764</td>\n",
       "      <td>84</td>\n",
       "      <td>5292</td>\n",
       "      <td>21504</td>\n",
       "      <td>656376</td>\n",
       "      <td>27.049904</td>\n",
       "      <td>33.464942</td>\n",
       "      <td>6.415037</td>\n",
       "    </tr>\n",
       "    <tr>\n",
       "      <th>그</th>\n",
       "      <td>1176</td>\n",
       "      <td>840</td>\n",
       "      <td>84</td>\n",
       "      <td>5292</td>\n",
       "      <td>21504</td>\n",
       "      <td>656376</td>\n",
       "      <td>27.886405</td>\n",
       "      <td>33.231054</td>\n",
       "      <td>5.344648</td>\n",
       "    </tr>\n",
       "    <tr>\n",
       "      <th>누르고</th>\n",
       "      <td>1260</td>\n",
       "      <td>756</td>\n",
       "      <td>84</td>\n",
       "      <td>5292</td>\n",
       "      <td>21504</td>\n",
       "      <td>656376</td>\n",
       "      <td>27.786870</td>\n",
       "      <td>32.979515</td>\n",
       "      <td>5.192645</td>\n",
       "    </tr>\n",
       "    <tr>\n",
       "      <th>넘</th>\n",
       "      <td>1092</td>\n",
       "      <td>672</td>\n",
       "      <td>84</td>\n",
       "      <td>5292</td>\n",
       "      <td>21504</td>\n",
       "      <td>656376</td>\n",
       "      <td>27.993321</td>\n",
       "      <td>33.016041</td>\n",
       "      <td>5.022720</td>\n",
       "    </tr>\n",
       "    <tr>\n",
       "      <th>정보</th>\n",
       "      <td>672</td>\n",
       "      <td>672</td>\n",
       "      <td>84</td>\n",
       "      <td>5292</td>\n",
       "      <td>21504</td>\n",
       "      <td>656376</td>\n",
       "      <td>28.693760</td>\n",
       "      <td>33.716480</td>\n",
       "      <td>5.022720</td>\n",
       "    </tr>\n",
       "    <tr>\n",
       "      <th>...</th>\n",
       "      <td>...</td>\n",
       "      <td>...</td>\n",
       "      <td>...</td>\n",
       "      <td>...</td>\n",
       "      <td>...</td>\n",
       "      <td>...</td>\n",
       "      <td>...</td>\n",
       "      <td>...</td>\n",
       "      <td>...</td>\n",
       "    </tr>\n",
       "    <tr>\n",
       "      <th>괜찮네요</th>\n",
       "      <td>168</td>\n",
       "      <td>84</td>\n",
       "      <td>168</td>\n",
       "      <td>5292</td>\n",
       "      <td>21504</td>\n",
       "      <td>656376</td>\n",
       "      <td>31.693760</td>\n",
       "      <td>32.716480</td>\n",
       "      <td>1.022720</td>\n",
       "    </tr>\n",
       "    <tr>\n",
       "      <th>겸</th>\n",
       "      <td>168</td>\n",
       "      <td>84</td>\n",
       "      <td>168</td>\n",
       "      <td>5292</td>\n",
       "      <td>21504</td>\n",
       "      <td>656376</td>\n",
       "      <td>31.693760</td>\n",
       "      <td>32.716480</td>\n",
       "      <td>1.022720</td>\n",
       "    </tr>\n",
       "    <tr>\n",
       "      <th>그리고</th>\n",
       "      <td>168</td>\n",
       "      <td>84</td>\n",
       "      <td>168</td>\n",
       "      <td>5292</td>\n",
       "      <td>21504</td>\n",
       "      <td>656376</td>\n",
       "      <td>31.693760</td>\n",
       "      <td>32.716480</td>\n",
       "      <td>1.022720</td>\n",
       "    </tr>\n",
       "    <tr>\n",
       "      <th>계속</th>\n",
       "      <td>168</td>\n",
       "      <td>84</td>\n",
       "      <td>168</td>\n",
       "      <td>5292</td>\n",
       "      <td>21504</td>\n",
       "      <td>656376</td>\n",
       "      <td>31.693760</td>\n",
       "      <td>32.716480</td>\n",
       "      <td>1.022720</td>\n",
       "    </tr>\n",
       "    <tr>\n",
       "      <th>신</th>\n",
       "      <td>168</td>\n",
       "      <td>84</td>\n",
       "      <td>168</td>\n",
       "      <td>5292</td>\n",
       "      <td>21504</td>\n",
       "      <td>656376</td>\n",
       "      <td>31.693760</td>\n",
       "      <td>32.716480</td>\n",
       "      <td>1.022720</td>\n",
       "    </tr>\n",
       "  </tbody>\n",
       "</table>\n",
       "<p>868 rows × 9 columns</p>\n",
       "</div>"
      ],
      "text/plain": [
       "        W1  W1W2P  W1W2N  neg_cnt  pos_cnt       N       MI_N       MI_P  \\\n",
       "갑니다   2100   1764     84     5292    21504  656376  27.049904  33.464942   \n",
       "그     1176    840     84     5292    21504  656376  27.886405  33.231054   \n",
       "누르고   1260    756     84     5292    21504  656376  27.786870  32.979515   \n",
       "넘     1092    672     84     5292    21504  656376  27.993321  33.016041   \n",
       "정보     672    672     84     5292    21504  656376  28.693760  33.716480   \n",
       "...    ...    ...    ...      ...      ...     ...        ...        ...   \n",
       "괜찮네요   168     84    168     5292    21504  656376  31.693760  32.716480   \n",
       "겸      168     84    168     5292    21504  656376  31.693760  32.716480   \n",
       "그리고    168     84    168     5292    21504  656376  31.693760  32.716480   \n",
       "계속     168     84    168     5292    21504  656376  31.693760  32.716480   \n",
       "신      168     84    168     5292    21504  656376  31.693760  32.716480   \n",
       "\n",
       "         SO_MI  \n",
       "갑니다   6.415037  \n",
       "그     5.344648  \n",
       "누르고   5.192645  \n",
       "넘     5.022720  \n",
       "정보    5.022720  \n",
       "...        ...  \n",
       "괜찮네요  1.022720  \n",
       "겸     1.022720  \n",
       "그리고   1.022720  \n",
       "계속    1.022720  \n",
       "신     1.022720  \n",
       "\n",
       "[868 rows x 9 columns]"
      ]
     },
     "execution_count": 28,
     "metadata": {},
     "output_type": "execute_result"
    }
   ],
   "source": [
    "k_n.sort_values(by=['SO_MI'],ascending=False)"
   ]
  },
  {
   "cell_type": "code",
   "execution_count": 29,
   "metadata": {},
   "outputs": [],
   "source": [
    "add_Dic = {0:[],1:[]}\n",
    "for i in k_n[k_n['SO_MI']>0].T.keys():\n",
    "    if i not in list(sent_dic[0]):\n",
    "        if len(i) > 1:\n",
    "            add_Dic[0].append(i)\n",
    "            add_Dic[1].append(1.0)\n",
    "for i in k_n[k_n['SO_MI']<0].T.keys():\n",
    "    if i not in list(sent_dic[0]):\n",
    "        add_Dic[0].append(i)\n",
    "        add_Dic[1].append(-1.0)"
   ]
  },
  {
   "cell_type": "code",
   "execution_count": 30,
   "metadata": {},
   "outputs": [],
   "source": [
    "add_Dic=pd.DataFrame(add_Dic)"
   ]
  },
  {
   "cell_type": "code",
   "execution_count": 31,
   "metadata": {},
   "outputs": [],
   "source": [
    "Sentiment=pd.merge(sent_dic,add_Dic,'outer')"
   ]
  },
  {
   "cell_type": "code",
   "execution_count": 32,
   "metadata": {},
   "outputs": [],
   "source": [
    "cnt = []\n",
    "for i in df_s['comment']:\n",
    "    count=0\n",
    "    for j in list(set(i)):\n",
    "        if len(Sentiment[Sentiment[0]==j])==1:\n",
    "            a = float(Sentiment[Sentiment[0]==j][1])\n",
    "            count += a\n",
    "    cnt.append(count)"
   ]
  },
  {
   "cell_type": "code",
   "execution_count": 33,
   "metadata": {},
   "outputs": [],
   "source": [
    "df['score']=cnt"
   ]
  },
  {
   "cell_type": "code",
   "execution_count": 34,
   "metadata": {},
   "outputs": [
    {
     "name": "stderr",
     "output_type": "stream",
     "text": [
      "C:\\Users\\4770pc2\\anaconda3\\lib\\site-packages\\ipykernel_launcher.py:3: RuntimeWarning: invalid value encountered in double_scalars\n",
      "  This is separate from the ipykernel package so we can avoid doing imports until\n"
     ]
    }
   ],
   "source": [
    "ratio=[]\n",
    "for i in range(len(df['score'])):\n",
    "    ratio.append(round(df['score'][i]/len(df_s['comment'][i]),2))"
   ]
  },
  {
   "cell_type": "code",
   "execution_count": 35,
   "metadata": {},
   "outputs": [],
   "source": [
    "df['cm_ratio']=ratio\n",
    "df=df.fillna(0)"
   ]
  },
  {
   "cell_type": "code",
   "execution_count": 36,
   "metadata": {},
   "outputs": [],
   "source": [
    "df.to_excel('sentiment_total_score_food.xlsx')"
   ]
  },
  {
   "cell_type": "code",
   "execution_count": 37,
   "metadata": {},
   "outputs": [],
   "source": [
    "ts=pd.read_excel('sentiment_total_score_food.xlsx')"
   ]
  },
  {
   "cell_type": "code",
   "execution_count": 38,
   "metadata": {
    "scrolled": false
   },
   "outputs": [
    {
     "data": {
      "text/html": [
       "<div>\n",
       "<style scoped>\n",
       "    .dataframe tbody tr th:only-of-type {\n",
       "        vertical-align: middle;\n",
       "    }\n",
       "\n",
       "    .dataframe tbody tr th {\n",
       "        vertical-align: top;\n",
       "    }\n",
       "\n",
       "    .dataframe thead th {\n",
       "        text-align: right;\n",
       "    }\n",
       "</style>\n",
       "<table border=\"1\" class=\"dataframe\">\n",
       "  <thead>\n",
       "    <tr style=\"text-align: right;\">\n",
       "      <th></th>\n",
       "      <th>Unnamed: 0</th>\n",
       "      <th>Unnamed: 0.1</th>\n",
       "      <th>youtube_id</th>\n",
       "      <th>comment</th>\n",
       "      <th>like_num</th>\n",
       "      <th>score</th>\n",
       "      <th>cm_ratio</th>\n",
       "    </tr>\n",
       "  </thead>\n",
       "  <tbody>\n",
       "    <tr>\n",
       "      <th>0</th>\n",
       "      <td>0</td>\n",
       "      <td>0</td>\n",
       "      <td>오프로OhPro</td>\n",
       "      <td>여러분~~~ 제가 작년에도 아임닭 소시지 리뷰한 적이 있었는데, 이번에 오랜만에 다...</td>\n",
       "      <td>5</td>\n",
       "      <td>38</td>\n",
       "      <td>0.52</td>\n",
       "    </tr>\n",
       "    <tr>\n",
       "      <th>1</th>\n",
       "      <td>1</td>\n",
       "      <td>1</td>\n",
       "      <td>KibumJung</td>\n",
       "      <td>다이어트식으로 좋을것 같네요\\n요즘 일일일식 하는데..\\n저거라도 사 먹어볼까 하는...</td>\n",
       "      <td>2</td>\n",
       "      <td>7</td>\n",
       "      <td>0.35</td>\n",
       "    </tr>\n",
       "    <tr>\n",
       "      <th>2</th>\n",
       "      <td>2</td>\n",
       "      <td>2</td>\n",
       "      <td>규리작가s새벽별속삭임</td>\n",
       "      <td>그거 먹을만해요 ㅋㅋㅋㅋ\\n지금은 채식이라 안먹지만요👍👍\\n고생좀하셨네요;;;;;;...</td>\n",
       "      <td>1</td>\n",
       "      <td>5</td>\n",
       "      <td>0.15</td>\n",
       "    </tr>\n",
       "    <tr>\n",
       "      <th>3</th>\n",
       "      <td>3</td>\n",
       "      <td>3</td>\n",
       "      <td>아바라TV미니멀짠테크</td>\n",
       "      <td>오프로님....이놈의 소스가...ㅋㅋ 혀를 꼬이게 했군여\\n리뷰를 정말 잘하시는거 ...</td>\n",
       "      <td>1</td>\n",
       "      <td>8</td>\n",
       "      <td>0.27</td>\n",
       "    </tr>\n",
       "    <tr>\n",
       "      <th>4</th>\n",
       "      <td>4</td>\n",
       "      <td>4</td>\n",
       "      <td>Lila</td>\n",
       "      <td>이건 아니야 짱웃겨욬ㅋㅋㅋㅋㅋㅋㅋㅋ\\n온몸으로 거부 ㅋㅋㅋㅋㅋㅋㅋㅋㅋ</td>\n",
       "      <td>0</td>\n",
       "      <td>3</td>\n",
       "      <td>0.38</td>\n",
       "    </tr>\n",
       "  </tbody>\n",
       "</table>\n",
       "</div>"
      ],
      "text/plain": [
       "   Unnamed: 0  Unnamed: 0.1   youtube_id  \\\n",
       "0           0             0     오프로OhPro   \n",
       "1           1             1    KibumJung   \n",
       "2           2             2  규리작가s새벽별속삭임   \n",
       "3           3             3  아바라TV미니멀짠테크   \n",
       "4           4             4         Lila   \n",
       "\n",
       "                                             comment  like_num  score  \\\n",
       "0  여러분~~~ 제가 작년에도 아임닭 소시지 리뷰한 적이 있었는데, 이번에 오랜만에 다...         5     38   \n",
       "1  다이어트식으로 좋을것 같네요\\n요즘 일일일식 하는데..\\n저거라도 사 먹어볼까 하는...         2      7   \n",
       "2  그거 먹을만해요 ㅋㅋㅋㅋ\\n지금은 채식이라 안먹지만요👍👍\\n고생좀하셨네요;;;;;;...         1      5   \n",
       "3  오프로님....이놈의 소스가...ㅋㅋ 혀를 꼬이게 했군여\\n리뷰를 정말 잘하시는거 ...         1      8   \n",
       "4             이건 아니야 짱웃겨욬ㅋㅋㅋㅋㅋㅋㅋㅋ\\n온몸으로 거부 ㅋㅋㅋㅋㅋㅋㅋㅋㅋ         0      3   \n",
       "\n",
       "   cm_ratio  \n",
       "0      0.52  \n",
       "1      0.35  \n",
       "2      0.15  \n",
       "3      0.27  \n",
       "4      0.38  "
      ]
     },
     "execution_count": 38,
     "metadata": {},
     "output_type": "execute_result"
    }
   ],
   "source": [
    "ts.head()"
   ]
  },
  {
   "cell_type": "code",
   "execution_count": 39,
   "metadata": {},
   "outputs": [],
   "source": [
    "ts['like_num']=np.where(ts['like_num']==0,1,ts['like_num'])"
   ]
  },
  {
   "cell_type": "code",
   "execution_count": 40,
   "metadata": {},
   "outputs": [],
   "source": [
    "ts['like_score']=ts['like_num']*ts['score']"
   ]
  },
  {
   "cell_type": "code",
   "execution_count": 41,
   "metadata": {
    "scrolled": false
   },
   "outputs": [
    {
     "data": {
      "text/html": [
       "<div>\n",
       "<style scoped>\n",
       "    .dataframe tbody tr th:only-of-type {\n",
       "        vertical-align: middle;\n",
       "    }\n",
       "\n",
       "    .dataframe tbody tr th {\n",
       "        vertical-align: top;\n",
       "    }\n",
       "\n",
       "    .dataframe thead th {\n",
       "        text-align: right;\n",
       "    }\n",
       "</style>\n",
       "<table border=\"1\" class=\"dataframe\">\n",
       "  <thead>\n",
       "    <tr style=\"text-align: right;\">\n",
       "      <th></th>\n",
       "      <th>Unnamed: 0</th>\n",
       "      <th>Unnamed: 0.1</th>\n",
       "      <th>youtube_id</th>\n",
       "      <th>comment</th>\n",
       "      <th>like_num</th>\n",
       "      <th>score</th>\n",
       "      <th>cm_ratio</th>\n",
       "      <th>like_score</th>\n",
       "    </tr>\n",
       "  </thead>\n",
       "  <tbody>\n",
       "    <tr>\n",
       "      <th>0</th>\n",
       "      <td>0</td>\n",
       "      <td>0</td>\n",
       "      <td>오프로OhPro</td>\n",
       "      <td>여러분~~~ 제가 작년에도 아임닭 소시지 리뷰한 적이 있었는데, 이번에 오랜만에 다...</td>\n",
       "      <td>5</td>\n",
       "      <td>38</td>\n",
       "      <td>0.52</td>\n",
       "      <td>190</td>\n",
       "    </tr>\n",
       "    <tr>\n",
       "      <th>1</th>\n",
       "      <td>1</td>\n",
       "      <td>1</td>\n",
       "      <td>KibumJung</td>\n",
       "      <td>다이어트식으로 좋을것 같네요\\n요즘 일일일식 하는데..\\n저거라도 사 먹어볼까 하는...</td>\n",
       "      <td>2</td>\n",
       "      <td>7</td>\n",
       "      <td>0.35</td>\n",
       "      <td>14</td>\n",
       "    </tr>\n",
       "    <tr>\n",
       "      <th>2</th>\n",
       "      <td>2</td>\n",
       "      <td>2</td>\n",
       "      <td>규리작가s새벽별속삭임</td>\n",
       "      <td>그거 먹을만해요 ㅋㅋㅋㅋ\\n지금은 채식이라 안먹지만요👍👍\\n고생좀하셨네요;;;;;;...</td>\n",
       "      <td>1</td>\n",
       "      <td>5</td>\n",
       "      <td>0.15</td>\n",
       "      <td>5</td>\n",
       "    </tr>\n",
       "    <tr>\n",
       "      <th>3</th>\n",
       "      <td>3</td>\n",
       "      <td>3</td>\n",
       "      <td>아바라TV미니멀짠테크</td>\n",
       "      <td>오프로님....이놈의 소스가...ㅋㅋ 혀를 꼬이게 했군여\\n리뷰를 정말 잘하시는거 ...</td>\n",
       "      <td>1</td>\n",
       "      <td>8</td>\n",
       "      <td>0.27</td>\n",
       "      <td>8</td>\n",
       "    </tr>\n",
       "    <tr>\n",
       "      <th>4</th>\n",
       "      <td>4</td>\n",
       "      <td>4</td>\n",
       "      <td>Lila</td>\n",
       "      <td>이건 아니야 짱웃겨욬ㅋㅋㅋㅋㅋㅋㅋㅋ\\n온몸으로 거부 ㅋㅋㅋㅋㅋㅋㅋㅋㅋ</td>\n",
       "      <td>1</td>\n",
       "      <td>3</td>\n",
       "      <td>0.38</td>\n",
       "      <td>3</td>\n",
       "    </tr>\n",
       "  </tbody>\n",
       "</table>\n",
       "</div>"
      ],
      "text/plain": [
       "   Unnamed: 0  Unnamed: 0.1   youtube_id  \\\n",
       "0           0             0     오프로OhPro   \n",
       "1           1             1    KibumJung   \n",
       "2           2             2  규리작가s새벽별속삭임   \n",
       "3           3             3  아바라TV미니멀짠테크   \n",
       "4           4             4         Lila   \n",
       "\n",
       "                                             comment  like_num  score  \\\n",
       "0  여러분~~~ 제가 작년에도 아임닭 소시지 리뷰한 적이 있었는데, 이번에 오랜만에 다...         5     38   \n",
       "1  다이어트식으로 좋을것 같네요\\n요즘 일일일식 하는데..\\n저거라도 사 먹어볼까 하는...         2      7   \n",
       "2  그거 먹을만해요 ㅋㅋㅋㅋ\\n지금은 채식이라 안먹지만요👍👍\\n고생좀하셨네요;;;;;;...         1      5   \n",
       "3  오프로님....이놈의 소스가...ㅋㅋ 혀를 꼬이게 했군여\\n리뷰를 정말 잘하시는거 ...         1      8   \n",
       "4             이건 아니야 짱웃겨욬ㅋㅋㅋㅋㅋㅋㅋㅋ\\n온몸으로 거부 ㅋㅋㅋㅋㅋㅋㅋㅋㅋ         1      3   \n",
       "\n",
       "   cm_ratio  like_score  \n",
       "0      0.52         190  \n",
       "1      0.35          14  \n",
       "2      0.15           5  \n",
       "3      0.27           8  \n",
       "4      0.38           3  "
      ]
     },
     "execution_count": 41,
     "metadata": {},
     "output_type": "execute_result"
    }
   ],
   "source": [
    "ts.head()"
   ]
  },
  {
   "cell_type": "code",
   "execution_count": 43,
   "metadata": {},
   "outputs": [],
   "source": [
    "sent=sum(ts['like_score'])/len(ts)"
   ]
  },
  {
   "cell_type": "code",
   "execution_count": 45,
   "metadata": {},
   "outputs": [],
   "source": [
    "f=open(\"오프로_컨설팅.txt\", 'a')\n",
    "print(\"Food의 감성점수는\",sent,\"점입니다\",\"\\n\",file=f)\n",
    "f.close()"
   ]
  },
  {
   "cell_type": "markdown",
   "metadata": {},
   "source": [
    "# Review"
   ]
  },
  {
   "cell_type": "code",
   "execution_count": 1,
   "metadata": {},
   "outputs": [],
   "source": [
    "import pandas as pd\n",
    "import os\n",
    "import glob\n",
    "import re"
   ]
  },
  {
   "cell_type": "code",
   "execution_count": 2,
   "metadata": {},
   "outputs": [],
   "source": [
    "df = []\n",
    "for i in range(1,50):\n",
    "    dfname = \"review\" + str(i) + '.xlsx'\n",
    "    tempdf = pd.read_excel(dfname)\n",
    "    df.append(tempdf)\n"
   ]
  },
  {
   "cell_type": "code",
   "execution_count": 4,
   "metadata": {},
   "outputs": [],
   "source": [
    "df=pd.concat(df)"
   ]
  },
  {
   "cell_type": "code",
   "execution_count": 5,
   "metadata": {
    "scrolled": true
   },
   "outputs": [
    {
     "data": {
      "text/html": [
       "<div>\n",
       "<style scoped>\n",
       "    .dataframe tbody tr th:only-of-type {\n",
       "        vertical-align: middle;\n",
       "    }\n",
       "\n",
       "    .dataframe tbody tr th {\n",
       "        vertical-align: top;\n",
       "    }\n",
       "\n",
       "    .dataframe thead th {\n",
       "        text-align: right;\n",
       "    }\n",
       "</style>\n",
       "<table border=\"1\" class=\"dataframe\">\n",
       "  <thead>\n",
       "    <tr style=\"text-align: right;\">\n",
       "      <th></th>\n",
       "      <th>Unnamed: 0</th>\n",
       "      <th>youtube_id</th>\n",
       "      <th>comment</th>\n",
       "      <th>like_num</th>\n",
       "    </tr>\n",
       "  </thead>\n",
       "  <tbody>\n",
       "    <tr>\n",
       "      <th>0</th>\n",
       "      <td>0</td>\n",
       "      <td>오프로OhPro</td>\n",
       "      <td>여러분~~ 오늘은 새벽배송 '마켓컬리'와 '오아시스' 비교 리뷰예요!\\r 제가 영상...</td>\n",
       "      <td>7개</td>\n",
       "    </tr>\n",
       "    <tr>\n",
       "      <th>1</th>\n",
       "      <td>1</td>\n",
       "      <td>가치해피TV</td>\n",
       "      <td>오프론님은 컬리랑  뭔가 분위기가 어울리지 않을까 싶어요</td>\n",
       "      <td>2개</td>\n",
       "    </tr>\n",
       "    <tr>\n",
       "      <th>2</th>\n",
       "      <td>2</td>\n",
       "      <td>강소희</td>\n",
       "      <td>오프로님~~☺\\n다음은 오프로님 핸드폰에 깔려있는 어플들 대표적인거 하나씩 소개하는...</td>\n",
       "      <td>1개</td>\n",
       "    </tr>\n",
       "    <tr>\n",
       "      <th>3</th>\n",
       "      <td>3</td>\n",
       "      <td>꼼지라기</td>\n",
       "      <td>완전 객관적인 리뷰 감사합니다~ 이용하기 전에는 알수 없는게 많네요ㅎ 개인적으론 소...</td>\n",
       "      <td>0개</td>\n",
       "    </tr>\n",
       "    <tr>\n",
       "      <th>4</th>\n",
       "      <td>4</td>\n",
       "      <td>깊은밤TV</td>\n",
       "      <td>오프로님 좋은 정보 항상 감사합니다. ㅅㅅ\\n잘 보고 갑니다.</td>\n",
       "      <td>0개</td>\n",
       "    </tr>\n",
       "  </tbody>\n",
       "</table>\n",
       "</div>"
      ],
      "text/plain": [
       "   Unnamed: 0 youtube_id                                            comment  \\\n",
       "0           0   오프로OhPro  여러분~~ 오늘은 새벽배송 '마켓컬리'와 '오아시스' 비교 리뷰예요!\\r 제가 영상...   \n",
       "1           1     가치해피TV                    오프론님은 컬리랑  뭔가 분위기가 어울리지 않을까 싶어요   \n",
       "2           2        강소희  오프로님~~☺\\n다음은 오프로님 핸드폰에 깔려있는 어플들 대표적인거 하나씩 소개하는...   \n",
       "3           3       꼼지라기  완전 객관적인 리뷰 감사합니다~ 이용하기 전에는 알수 없는게 많네요ㅎ 개인적으론 소...   \n",
       "4           4      깊은밤TV                 오프로님 좋은 정보 항상 감사합니다. ㅅㅅ\\n잘 보고 갑니다.   \n",
       "\n",
       "  like_num  \n",
       "0       7개  \n",
       "1       2개  \n",
       "2       1개  \n",
       "3       0개  \n",
       "4       0개  "
      ]
     },
     "execution_count": 5,
     "metadata": {},
     "output_type": "execute_result"
    }
   ],
   "source": [
    "df.head()"
   ]
  },
  {
   "cell_type": "code",
   "execution_count": 6,
   "metadata": {},
   "outputs": [],
   "source": [
    "df['like_num'] = [re.sub(r'[^0-9]','', x) for x in df['like_num']]\n",
    "df['like_num'] = df['like_num'].astype(int)"
   ]
  },
  {
   "cell_type": "code",
   "execution_count": 7,
   "metadata": {
    "scrolled": true
   },
   "outputs": [
    {
     "data": {
      "text/html": [
       "<div>\n",
       "<style scoped>\n",
       "    .dataframe tbody tr th:only-of-type {\n",
       "        vertical-align: middle;\n",
       "    }\n",
       "\n",
       "    .dataframe tbody tr th {\n",
       "        vertical-align: top;\n",
       "    }\n",
       "\n",
       "    .dataframe thead th {\n",
       "        text-align: right;\n",
       "    }\n",
       "</style>\n",
       "<table border=\"1\" class=\"dataframe\">\n",
       "  <thead>\n",
       "    <tr style=\"text-align: right;\">\n",
       "      <th></th>\n",
       "      <th>Unnamed: 0</th>\n",
       "      <th>youtube_id</th>\n",
       "      <th>comment</th>\n",
       "      <th>like_num</th>\n",
       "    </tr>\n",
       "  </thead>\n",
       "  <tbody>\n",
       "    <tr>\n",
       "      <th>0</th>\n",
       "      <td>0</td>\n",
       "      <td>오프로OhPro</td>\n",
       "      <td>여러분~~ 오늘은 새벽배송 '마켓컬리'와 '오아시스' 비교 리뷰예요!\\r 제가 영상...</td>\n",
       "      <td>7</td>\n",
       "    </tr>\n",
       "    <tr>\n",
       "      <th>1</th>\n",
       "      <td>1</td>\n",
       "      <td>가치해피TV</td>\n",
       "      <td>오프론님은 컬리랑  뭔가 분위기가 어울리지 않을까 싶어요</td>\n",
       "      <td>2</td>\n",
       "    </tr>\n",
       "    <tr>\n",
       "      <th>2</th>\n",
       "      <td>2</td>\n",
       "      <td>강소희</td>\n",
       "      <td>오프로님~~☺\\n다음은 오프로님 핸드폰에 깔려있는 어플들 대표적인거 하나씩 소개하는...</td>\n",
       "      <td>1</td>\n",
       "    </tr>\n",
       "    <tr>\n",
       "      <th>3</th>\n",
       "      <td>3</td>\n",
       "      <td>꼼지라기</td>\n",
       "      <td>완전 객관적인 리뷰 감사합니다~ 이용하기 전에는 알수 없는게 많네요ㅎ 개인적으론 소...</td>\n",
       "      <td>0</td>\n",
       "    </tr>\n",
       "    <tr>\n",
       "      <th>4</th>\n",
       "      <td>4</td>\n",
       "      <td>깊은밤TV</td>\n",
       "      <td>오프로님 좋은 정보 항상 감사합니다. ㅅㅅ\\n잘 보고 갑니다.</td>\n",
       "      <td>0</td>\n",
       "    </tr>\n",
       "  </tbody>\n",
       "</table>\n",
       "</div>"
      ],
      "text/plain": [
       "   Unnamed: 0 youtube_id                                            comment  \\\n",
       "0           0   오프로OhPro  여러분~~ 오늘은 새벽배송 '마켓컬리'와 '오아시스' 비교 리뷰예요!\\r 제가 영상...   \n",
       "1           1     가치해피TV                    오프론님은 컬리랑  뭔가 분위기가 어울리지 않을까 싶어요   \n",
       "2           2        강소희  오프로님~~☺\\n다음은 오프로님 핸드폰에 깔려있는 어플들 대표적인거 하나씩 소개하는...   \n",
       "3           3       꼼지라기  완전 객관적인 리뷰 감사합니다~ 이용하기 전에는 알수 없는게 많네요ㅎ 개인적으론 소...   \n",
       "4           4      깊은밤TV                 오프로님 좋은 정보 항상 감사합니다. ㅅㅅ\\n잘 보고 갑니다.   \n",
       "\n",
       "   like_num  \n",
       "0         7  \n",
       "1         2  \n",
       "2         1  \n",
       "3         0  \n",
       "4         0  "
      ]
     },
     "execution_count": 7,
     "metadata": {},
     "output_type": "execute_result"
    }
   ],
   "source": [
    "df.head()"
   ]
  },
  {
   "cell_type": "code",
   "execution_count": 8,
   "metadata": {
    "scrolled": true
   },
   "outputs": [],
   "source": [
    "import pandas as pd\n",
    "import re\n",
    "import konlpy\n",
    "import matplotlib.pyplot as plt\n",
    "from matplotlib import font_manager, rc\n",
    "import numpy as np\n",
    "font_name = font_manager.FontProperties(fname=\"c:/Windows/Fonts/malgun.ttf\").get_name()\n",
    "rc('font', family=font_name)\n",
    "plt.rcParams['figure.figsize'] = [20, 20]\n",
    "plt.rcParams.update({'font.size': 22})"
   ]
  },
  {
   "cell_type": "code",
   "execution_count": 9,
   "metadata": {},
   "outputs": [],
   "source": [
    "sent_dic = pd.read_csv('SentiWord_Dict.txt',sep = '\\t',header=None)"
   ]
  },
  {
   "cell_type": "code",
   "execution_count": 10,
   "metadata": {},
   "outputs": [],
   "source": [
    "sent_dic.iloc[14850,0]='갈등'\n",
    "sent_dic.iloc[14850,1]=-1"
   ]
  },
  {
   "cell_type": "code",
   "execution_count": 11,
   "metadata": {},
   "outputs": [],
   "source": [
    "pos_dic = sent_dic[sent_dic[1]>0]\n",
    "neg_dic = sent_dic[sent_dic[1]<0]\n",
    "neu_dic = sent_dic[sent_dic[1]==0]"
   ]
  },
  {
   "cell_type": "code",
   "execution_count": 13,
   "metadata": {},
   "outputs": [],
   "source": [
    "df.reset_index(drop=True, inplace=True) #데이터프레임 리인덱싱"
   ]
  },
  {
   "cell_type": "code",
   "execution_count": 14,
   "metadata": {
    "scrolled": true
   },
   "outputs": [],
   "source": [
    "#텍스트 전처리\n",
    "df_s={'youtube_id':[],'comment':[]}\n",
    "for idx,i in enumerate(df['comment']):\n",
    "    text=[]\n",
    "    a = re.sub('[^가-힣0-9a-zA-Z\\\\s]', '',i)\n",
    "    for j in a.split():\n",
    "        text.append(j)\n",
    "    df_s['youtube_id'].append(df['youtube_id'][idx])\n",
    "    df_s['comment'].append(' '.join(text))"
   ]
  },
  {
   "cell_type": "code",
   "execution_count": 15,
   "metadata": {},
   "outputs": [],
   "source": [
    "okt = konlpy.tag.Okt()"
   ]
  },
  {
   "cell_type": "code",
   "execution_count": 16,
   "metadata": {},
   "outputs": [],
   "source": [
    "for i,v in enumerate(df_s['comment']):\n",
    "    df_s['comment'][i] = okt.pos(v)"
   ]
  },
  {
   "cell_type": "code",
   "execution_count": 17,
   "metadata": {},
   "outputs": [],
   "source": [
    "for idx,i in enumerate(df_s['comment']):\n",
    "    text=[]\n",
    "    for j in i:\n",
    "        if j[1] == 'Adjective' or j[1]=='Adverb' or j[1] == 'Determiner' or j[1] == 'Noun' or j[1] == 'Verb' or 'Unknown':\n",
    "            text.append(j[0])\n",
    "    df_s['comment'][idx] = text"
   ]
  },
  {
   "cell_type": "code",
   "execution_count": 18,
   "metadata": {},
   "outputs": [],
   "source": [
    "pos=[]\n",
    "neg=[]\n",
    "for i in df_s['comment']:\n",
    "    for j in i:\n",
    "        if len(sent_dic[sent_dic[0]==j])==1:\n",
    "            a = float(sent_dic[sent_dic[0]==j][1])\n",
    "            if a > 0:\n",
    "                pos.append(j)\n",
    "            elif a < 0:\n",
    "                neg.append(j)\n",
    "    pos = list(set(pos))\n",
    "    neg = list(set(neg))"
   ]
  },
  {
   "cell_type": "code",
   "execution_count": 43,
   "metadata": {},
   "outputs": [],
   "source": [
    "sent=sum(ts['like_score'])/len(ts)"
   ]
  },
  {
   "cell_type": "code",
   "execution_count": 54,
   "metadata": {},
   "outputs": [],
   "source": [
    "f=open(\"오프로_컨설팅.txt\", 'a')\n",
    "print(\"Vlog의 감성점수는\",sent,\"점입니다\",\"\\n\",file=f)\n",
    "f.close()"
   ]
  }
 ],
 "metadata": {
  "kernelspec": {
   "display_name": "Python 3",
   "language": "python",
   "name": "python3"
  },
  "language_info": {
   "codemirror_mode": {
    "name": "ipython",
    "version": 3
   },
   "file_extension": ".py",
   "mimetype": "text/x-python",
   "name": "python",
   "nbconvert_exporter": "python",
   "pygments_lexer": "ipython3",
   "version": "3.7.7"
  }
 },
 "nbformat": 4,
 "nbformat_minor": 4
}
